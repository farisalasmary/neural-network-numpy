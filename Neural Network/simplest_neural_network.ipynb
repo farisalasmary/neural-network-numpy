{
 "cells": [
  {
   "cell_type": "code",
   "execution_count": null,
   "metadata": {
    "colab": {},
    "colab_type": "code",
    "id": "eSBfoTbxl5xH"
   },
   "outputs": [],
   "source": [
    "from sklearn.model_selection import train_test_split\n",
    "from sklearn.preprocessing import LabelBinarizer\n",
    "from sklearn.metrics import classification_report\n",
    "import numpy as np\n",
    "import pandas as pd\n",
    "import matplotlib.pyplot as plt\n",
    "import time\n",
    "%matplotlib inline"
   ]
  },
  {
   "cell_type": "markdown",
   "metadata": {},
   "source": [
    "# Loading Data"
   ]
  },
  {
   "cell_type": "code",
   "execution_count": null,
   "metadata": {},
   "outputs": [],
   "source": [
    "data = pd.read_csv('AHDBase_TrainingSet.csv')\n",
    "data_cols = list(data.columns)\n",
    "data_cols.remove('Unnamed: 0')\n",
    "train_data = data[data_cols]"
   ]
  },
  {
   "cell_type": "code",
   "execution_count": null,
   "metadata": {},
   "outputs": [],
   "source": [
    "train_data.head()"
   ]
  },
  {
   "cell_type": "code",
   "execution_count": null,
   "metadata": {},
   "outputs": [],
   "source": [
    "data = pd.read_csv('AHDBase_TestingSet.csv')\n",
    "data_cols = list(data.columns)\n",
    "data_cols.remove('Unnamed: 0')\n",
    "test_data = data[data_cols]"
   ]
  },
  {
   "cell_type": "code",
   "execution_count": null,
   "metadata": {},
   "outputs": [],
   "source": [
    "test_data.head()"
   ]
  },
  {
   "cell_type": "code",
   "execution_count": null,
   "metadata": {
    "colab": {
     "base_uri": "https://localhost:8080/",
     "height": 318
    },
    "colab_type": "code",
    "executionInfo": {
     "elapsed": 732,
     "status": "ok",
     "timestamp": 1552507361092,
     "user": {
      "displayName": "Faris Alasmary",
      "photoUrl": "",
      "userId": "17258654308117726454"
     },
     "user_tz": -180
    },
    "id": "493OSAGqmcwF",
    "outputId": "08f4b984-12e7-4a3e-8c1b-f2f7c84ccfe6"
   },
   "outputs": [],
   "source": [
    "import cv2\n",
    "import matplotlib.pyplot as plt\n",
    "\n",
    "%matplotlib inline\n",
    "\n",
    "output = 'label'\n",
    "features = list(train_data.columns)\n",
    "features.remove(output)\n",
    "\n",
    "image_with_label = train_data.iloc[6578]\n",
    "\n",
    "\n",
    "label = image_with_label[output]\n",
    "image = image_with_label[features].values\n",
    "\n",
    "image = image.reshape(8, 8)\n",
    "\n",
    "print('The label is:', label)\n",
    "plt.imshow(image[0:64], cmap='gray')"
   ]
  },
  {
   "cell_type": "code",
   "execution_count": null,
   "metadata": {},
   "outputs": [],
   "source": [
    "print(len(train_data))\n",
    "print(len(test_data))"
   ]
  },
  {
   "cell_type": "code",
   "execution_count": null,
   "metadata": {},
   "outputs": [],
   "source": []
  },
  {
   "cell_type": "code",
   "execution_count": null,
   "metadata": {
    "colab": {},
    "colab_type": "code",
    "id": "6-ab9tv7pvYo"
   },
   "outputs": [],
   "source": [
    "# convert labels into one-hot encoding vectors\n",
    "binarizer = LabelBinarizer()\n",
    "one_hot_encoded_train_labels = binarizer.fit_transform(train_data[output])\n",
    "\n",
    "test_value = 20\n",
    "print(train_data[output][test_value])\n",
    "print(one_hot_encoded_train_labels[test_value])"
   ]
  },
  {
   "cell_type": "code",
   "execution_count": null,
   "metadata": {},
   "outputs": [],
   "source": []
  },
  {
   "cell_type": "code",
   "execution_count": null,
   "metadata": {},
   "outputs": [],
   "source": [
    "X_train = train_data[features].values\n",
    "y_train = one_hot_encoded_train_labels\n",
    "\n",
    "X_test = test_data[features].values\n",
    "y_test = binarizer.transform(test_data[output])"
   ]
  },
  {
   "cell_type": "code",
   "execution_count": null,
   "metadata": {},
   "outputs": [],
   "source": [
    "print(X_train.shape)\n",
    "print(y_train.shape)"
   ]
  },
  {
   "cell_type": "code",
   "execution_count": null,
   "metadata": {},
   "outputs": [],
   "source": [
    "# Take transpose since the neural network considers columns as examples and rows as features\n",
    "# i.e. if m is the number of samples (images) and n is the number of features (image pixels), then \n",
    "# n x m is the shape that is accepted by the network\n",
    "X_train = X_train.T\n",
    "y_train = y_train.T"
   ]
  },
  {
   "cell_type": "code",
   "execution_count": null,
   "metadata": {},
   "outputs": [],
   "source": [
    "print(X_train.shape)\n",
    "print(y_train.shape)"
   ]
  },
  {
   "cell_type": "markdown",
   "metadata": {},
   "source": [
    "# Helper Functions"
   ]
  },
  {
   "cell_type": "code",
   "execution_count": null,
   "metadata": {},
   "outputs": [],
   "source": [
    "def sigmoid(Z):\n",
    "    return 1. / (1 + np.exp(-Z))\n",
    "\n",
    "def sigmoid_prime(A):\n",
    "    return A * (1 - A)"
   ]
  },
  {
   "cell_type": "code",
   "execution_count": null,
   "metadata": {},
   "outputs": [],
   "source": [
    "def get_mini_batches(X, y, batch_size):\n",
    "    assert X.shape[1] == y.shape[1], 'Size Mismatch'\n",
    "    m = X.shape[1]\n",
    "    num_of_mini_batches = m // batch_size\n",
    "\n",
    "    for i in range(num_of_mini_batches):\n",
    "        start = i * batch_size\n",
    "        end = start + batch_size\n",
    "        mini_bacth_X = X[:, start:end]\n",
    "        mini_batch_y = y[:, start:end]\n",
    "        yield mini_bacth_X, mini_batch_y\n",
    "\n",
    "    if m % batch_size != 0:\n",
    "        last_mini_bacth_X = X[:, end:]\n",
    "        last_mini_bacth_y = y[:, end:]\n",
    "        yield last_mini_bacth_X, last_mini_bacth_y"
   ]
  },
  {
   "cell_type": "markdown",
   "metadata": {},
   "source": [
    "# Neural Network Implementation"
   ]
  },
  {
   "cell_type": "markdown",
   "metadata": {},
   "source": [
    "## Stochastic Gradient Descent (SGD)"
   ]
  },
  {
   "cell_type": "markdown",
   "metadata": {},
   "source": [
    "### Initialize Weights Randomly"
   ]
  },
  {
   "cell_type": "code",
   "execution_count": null,
   "metadata": {},
   "outputs": [],
   "source": [
    "W1 = 2*np.random.random((32, 64)) - 1\n",
    "W1 /= 32\n",
    "\n",
    "b1 = 2*np.random.random((32, 1)) - 1\n",
    "\n",
    "W2 = 2*np.random.random((16, 32)) - 1\n",
    "W2 /= 16\n",
    "\n",
    "b2 = 2*np.random.random((16, 1)) - 1\n",
    "\n",
    "W3 = 2*np.random.random((10, 16)) - 1\n",
    "W3 /= 10\n",
    "\n",
    "b3 = 2*np.random.random((10, 1)) - 1\n",
    "\n",
    "print(W1.shape, b1.shape)\n",
    "print(W2.shape, b2.shape)\n",
    "print(W3.shape, b3.shape)"
   ]
  },
  {
   "cell_type": "code",
   "execution_count": null,
   "metadata": {},
   "outputs": [],
   "source": []
  },
  {
   "cell_type": "code",
   "execution_count": null,
   "metadata": {
    "scrolled": true
   },
   "outputs": [],
   "source": [
    "alpha = 0.1\n",
    "costs = []\n",
    "\n",
    "tic = time.time()\n",
    "for epoch in range(1000):\n",
    "    total_cost = 0\n",
    "    \n",
    "    ### Shuffling ###\n",
    "    indices = np.arange(X_train.shape[1])\n",
    "    np.random.shuffle(indices)\n",
    "\n",
    "    X_train = X_train[:, indices]\n",
    "    y_train = y_train[:, indices]\n",
    "    \n",
    "    #################\n",
    "    \n",
    "    for i in range(X_train.shape[1]):\n",
    "        y_true = y_train[:, i]\n",
    "        A0 = X_train[:, i]\n",
    "        A0 = A0.reshape(A0.shape[0], 1)\n",
    "        y_true = y_true.reshape(y_true.shape[0], 1)\n",
    "        \n",
    "        # feedforward\n",
    "        Z1 = W1.dot(A0) + b1\n",
    "        A1 = sigmoid(Z1)\n",
    "\n",
    "        Z2 = W2.dot(A1) + b2\n",
    "        A2 = sigmoid(Z2)\n",
    "\n",
    "        Z3 = W3.dot(A2) + b3\n",
    "        A3 = sigmoid(Z3)\n",
    "\n",
    "        y_pred = A3\n",
    "\n",
    "        y_true = np.atleast_2d(y_true)\n",
    "        cost = 0.5 * np.sum((y_true - y_pred) ** 2)\n",
    "        total_cost += cost\n",
    "\n",
    "        # backpropagate error\n",
    "        delta3 = (y_pred - y_true) * sigmoid_prime(y_pred)\n",
    "        delta2 = W3.T.dot(delta3) * sigmoid_prime(A2)\n",
    "        delta1 = W2.T.dot(delta2) * sigmoid_prime(A1)\n",
    "\n",
    "        dW1 = delta1.dot(A0.T)\n",
    "        dW2 = delta2.dot(A1.T)\n",
    "        dW3 = delta3.dot(A2.T)\n",
    "\n",
    "        db1 = delta1.sum(axis=1, keepdims=True)\n",
    "        db2 = delta2.sum(axis=1, keepdims=True)\n",
    "        db3 = delta3.sum(axis=1, keepdims=True)\n",
    "\n",
    "\n",
    "        assert W1.shape == dW1.shape, 'Size Mismatch'\n",
    "        assert W2.shape == dW2.shape, 'Size Mismatch'\n",
    "        assert W3.shape == dW3.shape, 'Size Mismatch'\n",
    "        assert b1.shape == db1.shape, 'Size Mismatch'\n",
    "        assert b2.shape == db2.shape, 'Size Mismatch'\n",
    "        assert b3.shape == db3.shape, 'Size Mismatch'\n",
    "\n",
    "        # update weights\n",
    "        W1 = W1 - alpha*dW1\n",
    "        W2 = W2 - alpha*dW2\n",
    "        W3 = W3 - alpha*dW3\n",
    "\n",
    "        b1 = b1 - alpha*db1\n",
    "        b2 = b2 - alpha*db2\n",
    "        b3 = b3 - alpha*db3\n",
    "    \n",
    "    if epoch % 10 == 0:\n",
    "        print(epoch, total_cost / X_train.shape[1])\n",
    "        costs.append(total_cost / X_train.shape[1])\n",
    "toc = time.time()"
   ]
  },
  {
   "cell_type": "code",
   "execution_count": null,
   "metadata": {},
   "outputs": [],
   "source": [
    "(toc - tic) / 3600"
   ]
  },
  {
   "cell_type": "code",
   "execution_count": null,
   "metadata": {},
   "outputs": [],
   "source": [
    "A0 = X_test.T\n",
    "y_true = y_test.T"
   ]
  },
  {
   "cell_type": "code",
   "execution_count": null,
   "metadata": {},
   "outputs": [],
   "source": [
    "# feedforward\n",
    "Z1 = W1.dot(A0) + b1\n",
    "A1 = sigmoid(Z1)\n",
    "\n",
    "Z2 = W2.dot(A1) + b2\n",
    "A2 = sigmoid(Z2)\n",
    "\n",
    "Z3 = W3.dot(A2) + b3\n",
    "A3 = sigmoid(Z3)\n",
    "\n",
    "y_pred = A3"
   ]
  },
  {
   "cell_type": "code",
   "execution_count": null,
   "metadata": {},
   "outputs": [],
   "source": [
    "print(y_pred.shape)\n",
    "print(y_true.shape)"
   ]
  },
  {
   "cell_type": "code",
   "execution_count": null,
   "metadata": {},
   "outputs": [],
   "source": [
    "my_labels_pred = binarizer.inverse_transform(y_pred.T)\n",
    "print(classification_report(test_data[output], my_labels_pred))"
   ]
  },
  {
   "cell_type": "code",
   "execution_count": null,
   "metadata": {},
   "outputs": [],
   "source": [
    "plt.plot(costs)"
   ]
  },
  {
   "cell_type": "code",
   "execution_count": null,
   "metadata": {},
   "outputs": [],
   "source": []
  },
  {
   "cell_type": "markdown",
   "metadata": {},
   "source": [
    "## Batch Gradient Descent"
   ]
  },
  {
   "cell_type": "markdown",
   "metadata": {},
   "source": [
    "### Initialize Weights Randomly"
   ]
  },
  {
   "cell_type": "code",
   "execution_count": null,
   "metadata": {},
   "outputs": [],
   "source": [
    "W1 = 2*np.random.random((32, 64)) - 1\n",
    "W1 /= 32\n",
    "\n",
    "b1 = 2*np.random.random((32, 1)) - 1\n",
    "\n",
    "W2 = 2*np.random.random((16, 32)) - 1\n",
    "W2 /= 16\n",
    "\n",
    "b2 = 2*np.random.random((16, 1)) - 1\n",
    "\n",
    "W3 = 2*np.random.random((10, 16)) - 1\n",
    "W3 /= 10\n",
    "\n",
    "b3 = 2*np.random.random((10, 1)) - 1\n",
    "\n",
    "print(W1.shape, b1.shape)\n",
    "print(W2.shape, b2.shape)\n",
    "print(W3.shape, b3.shape)"
   ]
  },
  {
   "cell_type": "code",
   "execution_count": null,
   "metadata": {},
   "outputs": [],
   "source": []
  },
  {
   "cell_type": "code",
   "execution_count": null,
   "metadata": {
    "scrolled": true
   },
   "outputs": [],
   "source": [
    "m = X_train.shape[1]\n",
    "alpha = 0.9\n",
    "costs = []\n",
    "tic = time.time()\n",
    "for epoch in range(20000):\n",
    "    \n",
    "    ### Shuffling ###\n",
    "    indices = np.arange(X_train.shape[1])\n",
    "    np.random.shuffle(indices)\n",
    "\n",
    "    X_train = X_train[:, indices]\n",
    "    y_train = y_train[:, indices]\n",
    "    \n",
    "    #################\n",
    "    \n",
    "    A0 = X_train\n",
    "    y_true = y_train\n",
    "    \n",
    "    # feedforward\n",
    "    Z1 = W1.dot(A0) + b1\n",
    "    A1 = sigmoid(Z1)\n",
    "\n",
    "    Z2 = W2.dot(A1) + b2\n",
    "    A2 = sigmoid(Z2)\n",
    "\n",
    "    Z3 = W3.dot(A2) + b3\n",
    "    A3 = sigmoid(Z3)\n",
    "\n",
    "    y_pred = A3\n",
    "\n",
    "    y_true = np.atleast_2d(y_true)\n",
    "    cost = 0.5 * np.sum((y_true - y_pred) ** 2) / m\n",
    "    \n",
    "    # backpropagate error\n",
    "    delta3 = -(y_true - y_pred) * sigmoid_prime(y_pred)\n",
    "    delta2 = W3.T.dot(delta3) * sigmoid_prime(A2)\n",
    "    delta1 = W2.T.dot(delta2) * sigmoid_prime(A1)\n",
    "\n",
    "    dW1 = delta1.dot(A0.T) / m\n",
    "    dW2 = delta2.dot(A1.T) / m\n",
    "    dW3 = delta3.dot(A2.T) / m\n",
    "\n",
    "    db1 = delta1.sum(axis=1, keepdims=True) / m\n",
    "    db2 = delta2.sum(axis=1, keepdims=True) / m\n",
    "    db3 = delta3.sum(axis=1, keepdims=True) / m\n",
    "\n",
    "\n",
    "    assert W1.shape == dW1.shape, 'Size Mismatch'\n",
    "    assert W2.shape == dW2.shape, 'Size Mismatch'\n",
    "    assert W3.shape == dW3.shape, 'Size Mismatch'\n",
    "    assert b1.shape == db1.shape, 'Size Mismatch'\n",
    "    assert b2.shape == db2.shape, 'Size Mismatch'\n",
    "    assert b3.shape == db3.shape, 'Size Mismatch'\n",
    "\n",
    "    # update weights\n",
    "    W1 = W1 - alpha*dW1\n",
    "    W2 = W2 - alpha*dW2\n",
    "    W3 = W3 - alpha*dW3\n",
    "\n",
    "    b1 = b1 - alpha*db1\n",
    "    b2 = b2 - alpha*db2\n",
    "    b3 = b3 - alpha*db3\n",
    "\n",
    "    costs.append(cost)\n",
    "    \n",
    "    if epoch % 100 == 0:\n",
    "        print(epoch, cost)\n",
    "toc = time.time()"
   ]
  },
  {
   "cell_type": "code",
   "execution_count": null,
   "metadata": {},
   "outputs": [],
   "source": [
    "(toc - tic) / 3600"
   ]
  },
  {
   "cell_type": "code",
   "execution_count": null,
   "metadata": {},
   "outputs": [],
   "source": [
    "A0 = X_test.T\n",
    "y_true = y_test.T"
   ]
  },
  {
   "cell_type": "code",
   "execution_count": null,
   "metadata": {},
   "outputs": [],
   "source": [
    "# feedforward\n",
    "Z1 = W1.dot(A0) + b1\n",
    "A1 = sigmoid(Z1)\n",
    "\n",
    "Z2 = W2.dot(A1) + b2\n",
    "A2 = sigmoid(Z2)\n",
    "\n",
    "Z3 = W3.dot(A2) + b3\n",
    "A3 = sigmoid(Z3)\n",
    "\n",
    "y_pred = A3"
   ]
  },
  {
   "cell_type": "code",
   "execution_count": null,
   "metadata": {},
   "outputs": [],
   "source": [
    "print(y_pred.shape)\n",
    "print(y_true.shape)"
   ]
  },
  {
   "cell_type": "code",
   "execution_count": null,
   "metadata": {},
   "outputs": [],
   "source": [
    "my_labels_pred = binarizer.inverse_transform(y_pred.T)\n",
    "print(classification_report(test_data[output], my_labels_pred))"
   ]
  },
  {
   "cell_type": "code",
   "execution_count": null,
   "metadata": {},
   "outputs": [],
   "source": [
    "plt.plot(costs)"
   ]
  },
  {
   "cell_type": "code",
   "execution_count": null,
   "metadata": {},
   "outputs": [],
   "source": []
  },
  {
   "cell_type": "markdown",
   "metadata": {},
   "source": [
    "## Mini-Batch Gradient Descent"
   ]
  },
  {
   "cell_type": "markdown",
   "metadata": {},
   "source": [
    "### Initialize Weights Randomly"
   ]
  },
  {
   "cell_type": "code",
   "execution_count": null,
   "metadata": {},
   "outputs": [],
   "source": [
    "W1 = 2*np.random.random((32, 64)) - 1\n",
    "W1 /= 32\n",
    "\n",
    "b1 = 2*np.random.random((32, 1)) - 1\n",
    "\n",
    "W2 = 2*np.random.random((16, 32)) - 1\n",
    "W2 /= 16\n",
    "\n",
    "b2 = 2*np.random.random((16, 1)) - 1\n",
    "\n",
    "W3 = 2*np.random.random((10, 16)) - 1\n",
    "W3 /= 10\n",
    "\n",
    "b3 = 2*np.random.random((10, 1)) - 1\n",
    "\n",
    "print(W1.shape, b1.shape)\n",
    "print(W2.shape, b2.shape)\n",
    "print(W3.shape, b3.shape)"
   ]
  },
  {
   "cell_type": "code",
   "execution_count": null,
   "metadata": {},
   "outputs": [],
   "source": []
  },
  {
   "cell_type": "code",
   "execution_count": null,
   "metadata": {
    "scrolled": true
   },
   "outputs": [],
   "source": [
    "alpha = 0.9\n",
    "costs = []\n",
    "batch_size = 128\n",
    "\n",
    "tic = time.time()\n",
    "for epoch in range(1000):\n",
    "    total_cost = 0\n",
    "    \n",
    "    ### Shuffling ###\n",
    "    indices = np.arange(X_train.shape[1])\n",
    "    np.random.shuffle(indices)\n",
    "\n",
    "    X_train = X_train[:, indices]\n",
    "    y_train = y_train[:, indices]\n",
    "    \n",
    "    #################\n",
    "    j = 0\n",
    "    for mini_bacth_X, mini_bacth_y in get_mini_batches(X_train, y_train, batch_size):\n",
    "        m = mini_bacth_y.shape[1]\n",
    "        y_true = mini_bacth_y\n",
    "        A0 = mini_bacth_X\n",
    "        \n",
    "        # feedforward\n",
    "        Z1 = W1.dot(A0) + b1\n",
    "        A1 = sigmoid(Z1)\n",
    "\n",
    "        Z2 = W2.dot(A1) + b2\n",
    "        A2 = sigmoid(Z2)\n",
    "\n",
    "        Z3 = W3.dot(A2) + b3\n",
    "        A3 = sigmoid(Z3)\n",
    "\n",
    "        y_pred = A3\n",
    "\n",
    "        y_true = np.atleast_2d(y_true)\n",
    "        cost = 0.5 * np.sum((y_true - y_pred) ** 2) / m\n",
    "        total_cost += cost\n",
    "\n",
    "        # backpropagate error\n",
    "        delta3 = (y_pred - y_true) * sigmoid_prime(y_pred)\n",
    "        delta2 = W3.T.dot(delta3) * sigmoid_prime(A2)\n",
    "        delta1 = W2.T.dot(delta2) * sigmoid_prime(A1)\n",
    "\n",
    "        dW1 = delta1.dot(A0.T) / m\n",
    "        dW2 = delta2.dot(A1.T) / m\n",
    "        dW3 = delta3.dot(A2.T) / m\n",
    "\n",
    "        db1 = delta1.sum(axis=1, keepdims=True) / m\n",
    "        db2 = delta2.sum(axis=1, keepdims=True) / m\n",
    "        db3 = delta3.sum(axis=1, keepdims=True) / m\n",
    "\n",
    "\n",
    "        assert W1.shape == dW1.shape, 'Size Mismatch'\n",
    "        assert W2.shape == dW2.shape, 'Size Mismatch'\n",
    "        assert W3.shape == dW3.shape, 'Size Mismatch'\n",
    "        assert b1.shape == db1.shape, 'Size Mismatch'\n",
    "        assert b2.shape == db2.shape, 'Size Mismatch'\n",
    "        assert b3.shape == db3.shape, 'Size Mismatch'\n",
    "\n",
    "        # update weights\n",
    "        W1 = W1 - alpha*dW1\n",
    "        W2 = W2 - alpha*dW2\n",
    "        W3 = W3 - alpha*dW3\n",
    "\n",
    "        b1 = b1 - alpha*db1\n",
    "        b2 = b2 - alpha*db2\n",
    "        b3 = b3 - alpha*db3\n",
    "        \n",
    "        j += 1\n",
    "        costs.append(cost)\n",
    "    \n",
    "    if epoch % 10 == 0:\n",
    "        print(epoch, total_cost / j)\n",
    "        \n",
    "toc = time.time()"
   ]
  },
  {
   "cell_type": "code",
   "execution_count": null,
   "metadata": {},
   "outputs": [],
   "source": [
    "(toc - tic) / 3600"
   ]
  },
  {
   "cell_type": "code",
   "execution_count": null,
   "metadata": {},
   "outputs": [],
   "source": [
    "A0 = X_test.T\n",
    "y_true = y_test.T"
   ]
  },
  {
   "cell_type": "code",
   "execution_count": null,
   "metadata": {},
   "outputs": [],
   "source": [
    "# feedforward\n",
    "Z1 = W1.dot(A0) + b1\n",
    "A1 = sigmoid(Z1)\n",
    "\n",
    "Z2 = W2.dot(A1) + b2\n",
    "A2 = sigmoid(Z2)\n",
    "\n",
    "Z3 = W3.dot(A2) + b3\n",
    "A3 = sigmoid(Z3)\n",
    "\n",
    "y_pred = A3"
   ]
  },
  {
   "cell_type": "code",
   "execution_count": null,
   "metadata": {},
   "outputs": [],
   "source": [
    "print(y_pred.shape)\n",
    "print(y_true.shape)"
   ]
  },
  {
   "cell_type": "code",
   "execution_count": null,
   "metadata": {},
   "outputs": [],
   "source": [
    "my_labels_pred = binarizer.inverse_transform(y_pred.T)\n",
    "print(classification_report(test_data[output], my_labels_pred))"
   ]
  },
  {
   "cell_type": "code",
   "execution_count": null,
   "metadata": {},
   "outputs": [],
   "source": [
    "plt.plot(costs)"
   ]
  },
  {
   "cell_type": "code",
   "execution_count": null,
   "metadata": {},
   "outputs": [],
   "source": []
  }
 ],
 "metadata": {
  "colab": {
   "collapsed_sections": [],
   "name": "Code.ipynb",
   "provenance": [],
   "version": "0.3.2"
  },
  "kernelspec": {
   "display_name": "Python 3",
   "language": "python",
   "name": "python3"
  },
  "language_info": {
   "codemirror_mode": {
    "name": "ipython",
    "version": 3
   },
   "file_extension": ".py",
   "mimetype": "text/x-python",
   "name": "python",
   "nbconvert_exporter": "python",
   "pygments_lexer": "ipython3",
   "version": "3.6.5"
  }
 },
 "nbformat": 4,
 "nbformat_minor": 1
}
