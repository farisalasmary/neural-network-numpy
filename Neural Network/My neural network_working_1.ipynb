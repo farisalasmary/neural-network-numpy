{
 "cells": [
  {
   "cell_type": "code",
   "execution_count": 1,
   "metadata": {
    "colab": {},
    "colab_type": "code",
    "id": "eSBfoTbxl5xH"
   },
   "outputs": [],
   "source": [
    "from neuralnetwork import NeuralNetwork\n",
    "from simplepreprocessor import SimplePreprocessor\n",
    "from sklearn.model_selection import train_test_split\n",
    "from sklearn.preprocessing import LabelBinarizer\n",
    "from sklearn.metrics import classification_report\n",
    "from os import listdir\n",
    "from os.path import isfile, join\n",
    "import numpy as np\n",
    "import cv2\n",
    "import pandas as pd\n",
    "import matplotlib.pyplot as plt\n",
    "%matplotlib inline"
   ]
  },
  {
   "cell_type": "code",
   "execution_count": 2,
   "metadata": {},
   "outputs": [],
   "source": [
    "data = pd.read_csv('AHDBase_TrainingSet.csv')\n",
    "data_cols = list(data.columns)\n",
    "data_cols.remove('Unnamed: 0')\n",
    "data = data[data_cols]"
   ]
  },
  {
   "cell_type": "code",
   "execution_count": 3,
   "metadata": {},
   "outputs": [],
   "source": [
    "data = data[data_cols]"
   ]
  },
  {
   "cell_type": "code",
   "execution_count": 7,
   "metadata": {
    "colab": {
     "base_uri": "https://localhost:8080/",
     "height": 318
    },
    "colab_type": "code",
    "executionInfo": {
     "elapsed": 732,
     "status": "ok",
     "timestamp": 1552507361092,
     "user": {
      "displayName": "Faris Alasmary",
      "photoUrl": "",
      "userId": "17258654308117726454"
     },
     "user_tz": -180
    },
    "id": "493OSAGqmcwF",
    "outputId": "08f4b984-12e7-4a3e-8c1b-f2f7c84ccfe6"
   },
   "outputs": [
    {
     "name": "stdout",
     "output_type": "stream",
     "text": [
      "The label is: 2.0\n"
     ]
    },
    {
     "data": {
      "text/plain": [
       "<matplotlib.image.AxesImage at 0x1a2162cf28>"
      ]
     },
     "execution_count": 7,
     "metadata": {},
     "output_type": "execute_result"
    },
    {
     "data": {
      "image/png": "[encoded data removed]",
      "text/plain": [
       "<Figure size 432x288 with 1 Axes>"
      ]
     },
     "metadata": {},
     "output_type": "display_data"
    }
   ],
   "source": [
    "import cv2\n",
    "import matplotlib.pyplot as plt\n",
    "\n",
    "%matplotlib inline\n",
    "\n",
    "output = 'label'\n",
    "features = list(data.columns)\n",
    "features.remove(output)\n",
    "\n",
    "image_with_label = data.iloc[65]\n",
    "\n",
    "label = image_with_label[output]\n",
    "image = image_with_label[features].values\n",
    "\n",
    "image = image.reshape(8, 8)\n",
    "\n",
    "print('The label is:', label)\n",
    "plt.imshow(image[0:64], cmap='gray')"
   ]
  },
  {
   "cell_type": "code",
   "execution_count": null,
   "metadata": {
    "colab": {},
    "colab_type": "code",
    "id": "mjdTAFA-pvjM"
   },
   "outputs": [],
   "source": []
  },
  {
   "cell_type": "code",
   "execution_count": 8,
   "metadata": {},
   "outputs": [],
   "source": [
    "def random_split(data, features, output, fraction, seed=0):\n",
    "    X_train, X_test, y_train, y_test = train_test_split(data[features],\n",
    "                                                        data[output],\n",
    "                                                        stratify = data[output],\n",
    "                                                        random_state=seed,\n",
    "                                                        train_size=fraction\n",
    "                                                       )\n",
    "    train_data = pd.DataFrame(data=X_train, columns=features)\n",
    "    train_data[output] = y_train\n",
    "    test_data = pd.DataFrame(data=X_test, columns=features)\n",
    "    test_data[output] = y_test\n",
    "    \n",
    "    return train_data, test_data"
   ]
  },
  {
   "cell_type": "code",
   "execution_count": null,
   "metadata": {},
   "outputs": [],
   "source": []
  },
  {
   "cell_type": "code",
   "execution_count": 9,
   "metadata": {},
   "outputs": [
    {
     "name": "stdout",
     "output_type": "stream",
     "text": [
      "output: label\n",
      "features: ['0', '1', '2', '3', '4', '5', '6', '7', '8', '9', '10', '11', '12', '13', '14', '15', '16', '17', '18', '19', '20', '21', '22', '23', '24', '25', '26', '27', '28', '29', '30', '31', '32', '33', '34', '35', '36', '37', '38', '39', '40', '41', '42', '43', '44', '45', '46', '47', '48', '49', '50', '51', '52', '53', '54', '55', '56', '57', '58', '59', '60', '61', '62', '63']\n"
     ]
    },
    {
     "name": "stderr",
     "output_type": "stream",
     "text": [
      "/Users/faris/anaconda3/lib/python3.6/site-packages/sklearn/model_selection/_split.py:2179: FutureWarning: From version 0.21, test_size will always complement train_size unless both are specified.\n",
      "  FutureWarning)\n"
     ]
    }
   ],
   "source": [
    "fraction = .75 # let train_data be 75% and test_data be 25%\n",
    "seed = 0\n",
    "output = 'label'\n",
    "features = data.columns.tolist()\n",
    "features.remove(output)\n",
    "print('output:', output)\n",
    "print('features:', features)\n",
    "\n",
    "train_data, test_data = random_split(data, features, output, fraction, seed)\n",
    "train_data = train_data.reset_index(drop=True)\n",
    "test_data = test_data.reset_index(drop=True)"
   ]
  },
  {
   "cell_type": "code",
   "execution_count": null,
   "metadata": {},
   "outputs": [],
   "source": []
  },
  {
   "cell_type": "code",
   "execution_count": 10,
   "metadata": {},
   "outputs": [
    {
     "name": "stdout",
     "output_type": "stream",
     "text": [
      "45000\n",
      "15000\n",
      "0.75\n",
      "0.25\n"
     ]
    }
   ],
   "source": [
    "print(len(train_data))\n",
    "print(len(test_data))\n",
    "print(len(train_data) / float(len(data)))\n",
    "print(len(test_data) / float(len(data)))"
   ]
  },
  {
   "cell_type": "code",
   "execution_count": null,
   "metadata": {},
   "outputs": [],
   "source": []
  },
  {
   "cell_type": "code",
   "execution_count": 11,
   "metadata": {
    "colab": {},
    "colab_type": "code",
    "id": "6-ab9tv7pvYo"
   },
   "outputs": [
    {
     "name": "stdout",
     "output_type": "stream",
     "text": [
      "5\n",
      "[0 0 0 0 0 1 0 0 0 0]\n"
     ]
    }
   ],
   "source": [
    "binarizer = LabelBinarizer()\n",
    "one_hot_encoded_train_labels = binarizer.fit_transform(train_data[output])\n",
    "\n",
    "test_value = 21\n",
    "print(train_data[output][test_value])\n",
    "print(one_hot_encoded_train_labels[test_value])\n"
   ]
  },
  {
   "cell_type": "code",
   "execution_count": null,
   "metadata": {},
   "outputs": [],
   "source": []
  },
  {
   "cell_type": "markdown",
   "metadata": {},
   "source": [
    "# My First Implementation"
   ]
  },
  {
   "cell_type": "code",
   "execution_count": null,
   "metadata": {},
   "outputs": [],
   "source": []
  },
  {
   "cell_type": "code",
   "execution_count": 12,
   "metadata": {},
   "outputs": [],
   "source": [
    "X_train = train_data[features].values\n",
    "y_train = one_hot_encoded_train_labels\n",
    "\n",
    "X_test = test_data[features].values\n",
    "y_test = binarizer.transform(test_data[output])"
   ]
  },
  {
   "cell_type": "code",
   "execution_count": 13,
   "metadata": {},
   "outputs": [],
   "source": [
    "X = X_train.T\n",
    "y = y_train.T"
   ]
  },
  {
   "cell_type": "code",
   "execution_count": null,
   "metadata": {},
   "outputs": [],
   "source": []
  },
  {
   "cell_type": "code",
   "execution_count": 14,
   "metadata": {},
   "outputs": [
    {
     "name": "stdout",
     "output_type": "stream",
     "text": [
      "(64, 45000)\n",
      "(10, 45000)\n"
     ]
    }
   ],
   "source": [
    "print(X.shape)\n",
    "print(y.shape)"
   ]
  },
  {
   "cell_type": "code",
   "execution_count": 15,
   "metadata": {},
   "outputs": [],
   "source": [
    "def sigmoid(Z):\n",
    "    return 1. / (1 + np.exp(-Z))\n",
    "\n",
    "def sigmoid_prime(A):\n",
    "    return A * (1 - A)"
   ]
  },
  {
   "cell_type": "code",
   "execution_count": 16,
   "metadata": {},
   "outputs": [],
   "source": [
    "X, y = train_data[features].values, one_hot_encoded_train_labels"
   ]
  },
  {
   "cell_type": "code",
   "execution_count": 17,
   "metadata": {},
   "outputs": [],
   "source": [
    "X = X.T\n",
    "y = y.T"
   ]
  },
  {
   "cell_type": "code",
   "execution_count": 18,
   "metadata": {},
   "outputs": [
    {
     "name": "stdout",
     "output_type": "stream",
     "text": [
      "(64, 45000)\n",
      "(10, 45000)\n"
     ]
    }
   ],
   "source": [
    "print(X.shape)\n",
    "print(y.shape)"
   ]
  },
  {
   "cell_type": "code",
   "execution_count": null,
   "metadata": {},
   "outputs": [],
   "source": []
  },
  {
   "cell_type": "code",
   "execution_count": null,
   "metadata": {},
   "outputs": [],
   "source": []
  },
  {
   "cell_type": "markdown",
   "metadata": {},
   "source": [
    "# My Neural Network Implementation (Stochastic Gradient Descent)"
   ]
  },
  {
   "cell_type": "markdown",
   "metadata": {},
   "source": [
    "## Put ALL Snippets Together"
   ]
  },
  {
   "cell_type": "code",
   "execution_count": 19,
   "metadata": {},
   "outputs": [
    {
     "name": "stdout",
     "output_type": "stream",
     "text": [
      "(32, 64) (32, 1)\n",
      "(16, 32) (16, 1)\n",
      "(10, 16) (10, 1)\n"
     ]
    }
   ],
   "source": [
    "W1 = 2*np.random.random((32, 64)) - 1\n",
    "W1 /= 32\n",
    "\n",
    "b1 = 2*np.random.random((32, 1)) - 1\n",
    "\n",
    "W2 = 2*np.random.random((16, 32)) - 1\n",
    "W2 /= 16\n",
    "\n",
    "b2 = 2*np.random.random((16, 1)) - 1\n",
    "\n",
    "W3 = 2*np.random.random((10, 16)) - 1\n",
    "W3 /= 10\n",
    "\n",
    "b3 = 2*np.random.random((10, 1)) - 1\n",
    "\n",
    "print(W1.shape, b1.shape)\n",
    "print(W2.shape, b2.shape)\n",
    "print(W3.shape, b3.shape)"
   ]
  },
  {
   "cell_type": "code",
   "execution_count": 18,
   "metadata": {},
   "outputs": [],
   "source": [
    "alpha = 0.1"
   ]
  },
  {
   "cell_type": "code",
   "execution_count": 19,
   "metadata": {},
   "outputs": [],
   "source": [
    "costs = []"
   ]
  },
  {
   "cell_type": "code",
   "execution_count": 20,
   "metadata": {
    "scrolled": true
   },
   "outputs": [
    {
     "name": "stdout",
     "output_type": "stream",
     "text": [
      "0 0.4377267952409696\n",
      "10 0.022298888441646743\n",
      "20 0.018007225942731145\n",
      "30 0.015871026579998664\n",
      "40 0.014402290584911125\n",
      "50 0.013182635165868805\n",
      "60 0.012424505063475623\n",
      "70 0.01177335563999756\n",
      "80 0.011572705825665839\n",
      "90 0.011067116866013433\n",
      "100 0.010525741345045277\n",
      "110 0.010348455605899018\n",
      "120 0.009908345796762722\n"
     ]
    },
    {
     "ename": "KeyboardInterrupt",
     "evalue": "",
     "output_type": "error",
     "traceback": [
      "\u001b[0;31m---------------------------------------------------------------------------\u001b[0m",
      "\u001b[0;31mKeyboardInterrupt\u001b[0m                         Traceback (most recent call last)",
      "\u001b[0;32m<ipython-input-20-21b918bc56cc>\u001b[0m in \u001b[0;36m<module>\u001b[0;34m()\u001b[0m\n\u001b[1;32m     30\u001b[0m \u001b[0;34m\u001b[0m\u001b[0m\n\u001b[1;32m     31\u001b[0m         \u001b[0;31m# backpropagate error\u001b[0m\u001b[0;34m\u001b[0m\u001b[0;34m\u001b[0m\u001b[0m\n\u001b[0;32m---> 32\u001b[0;31m         \u001b[0mdelta3\u001b[0m \u001b[0;34m=\u001b[0m \u001b[0;34m-\u001b[0m\u001b[0;34m(\u001b[0m\u001b[0my_true\u001b[0m \u001b[0;34m-\u001b[0m \u001b[0my_pred\u001b[0m\u001b[0;34m)\u001b[0m \u001b[0;34m*\u001b[0m \u001b[0msigmoid_prime\u001b[0m\u001b[0;34m(\u001b[0m\u001b[0my_pred\u001b[0m\u001b[0;34m)\u001b[0m\u001b[0;34m\u001b[0m\u001b[0m\n\u001b[0m\u001b[1;32m     33\u001b[0m         \u001b[0mdelta2\u001b[0m \u001b[0;34m=\u001b[0m \u001b[0mW3\u001b[0m\u001b[0;34m.\u001b[0m\u001b[0mT\u001b[0m\u001b[0;34m.\u001b[0m\u001b[0mdot\u001b[0m\u001b[0;34m(\u001b[0m\u001b[0mdelta3\u001b[0m\u001b[0;34m)\u001b[0m \u001b[0;34m*\u001b[0m \u001b[0msigmoid_prime\u001b[0m\u001b[0;34m(\u001b[0m\u001b[0mA2\u001b[0m\u001b[0;34m)\u001b[0m\u001b[0;34m\u001b[0m\u001b[0m\n\u001b[1;32m     34\u001b[0m         \u001b[0mdelta1\u001b[0m \u001b[0;34m=\u001b[0m \u001b[0mW2\u001b[0m\u001b[0;34m.\u001b[0m\u001b[0mT\u001b[0m\u001b[0;34m.\u001b[0m\u001b[0mdot\u001b[0m\u001b[0;34m(\u001b[0m\u001b[0mdelta2\u001b[0m\u001b[0;34m)\u001b[0m \u001b[0;34m*\u001b[0m \u001b[0msigmoid_prime\u001b[0m\u001b[0;34m(\u001b[0m\u001b[0mA1\u001b[0m\u001b[0;34m)\u001b[0m\u001b[0;34m\u001b[0m\u001b[0m\n",
      "\u001b[0;31mKeyboardInterrupt\u001b[0m: "
     ]
    }
   ],
   "source": [
    "\n",
    "for epoch in range(1000):\n",
    "    total_cost = 0\n",
    "    for i in range(X.shape[1]):\n",
    "        \n",
    "        m = 1\n",
    "        start = i\n",
    "        end = i + 1\n",
    "\n",
    "        y_true = y[:, i]\n",
    "        A0 = X[:, i]\n",
    "        A0 = A0.reshape(A0.shape[0], 1)\n",
    "        y_true = y_true.reshape(y_true.shape[0], 1)\n",
    "        \n",
    "        # feedforward\n",
    "        Z1 = W1.dot(A0) + b1\n",
    "        A1 = sigmoid(Z1)\n",
    "\n",
    "        Z2 = W2.dot(A1) + b2\n",
    "        A2 = sigmoid(Z2)\n",
    "\n",
    "        Z3 = W3.dot(A2) + b3\n",
    "        A3 = sigmoid(Z3)\n",
    "\n",
    "        y_pred = A3\n",
    "\n",
    "        y_true = np.atleast_2d(y_true)\n",
    "        cost = 0.5 * np.sum((y_true - y_pred) ** 2)\n",
    "        total_cost += cost\n",
    "\n",
    "        # backpropagate error\n",
    "        delta3 = (y_pred - y_true) * sigmoid_prime(y_pred)\n",
    "        delta2 = W3.T.dot(delta3) * sigmoid_prime(A2)\n",
    "        delta1 = W2.T.dot(delta2) * sigmoid_prime(A1)\n",
    "\n",
    "        dW1 = delta1.dot(A0.T) / m\n",
    "        dW2 = delta2.dot(A1.T) / m\n",
    "        dW3 = delta3.dot(A2.T) / m\n",
    "\n",
    "        db1 = delta1.sum(axis=1, keepdims=True) / m\n",
    "        db2 = delta2.sum(axis=1, keepdims=True) / m\n",
    "        db3 = delta3.sum(axis=1, keepdims=True) / m\n",
    "\n",
    "\n",
    "        assert W1.shape == dW1.shape, 'Size Mismatch'\n",
    "        assert W2.shape == dW2.shape, 'Size Mismatch'\n",
    "        assert W3.shape == dW3.shape, 'Size Mismatch'\n",
    "        assert b1.shape == db1.shape, 'Size Mismatch'\n",
    "        assert b2.shape == db2.shape, 'Size Mismatch'\n",
    "        assert b3.shape == db3.shape, 'Size Mismatch'\n",
    "\n",
    "        W1_old = W1\n",
    "        W2_old = W2\n",
    "        W3_old = W3\n",
    "        b1_old = b1\n",
    "        b2_old = b2\n",
    "        b3_old = b3\n",
    "\n",
    "\n",
    "        # update weights\n",
    "        W1 = W1 - alpha*dW1\n",
    "        W2 = W2 - alpha*dW2\n",
    "        W3 = W3 - alpha*dW3\n",
    "\n",
    "        b1 = b1 - alpha*db1\n",
    "        b2 = b2 - alpha*db2\n",
    "        b3 = b3 - alpha*db3\n",
    "\n",
    "        assert W1_old.shape == W1.shape, 'Size Mismatch'\n",
    "        assert W2_old.shape == W2.shape, 'Size Mismatch'\n",
    "        assert W3_old.shape == W3.shape, 'Size Mismatch'\n",
    "\n",
    "        assert b1_old.shape == b1.shape, 'Size Mismatch'\n",
    "        assert b2_old.shape == b2.shape, 'Size Mismatch'\n",
    "        assert b3_old.shape == b3.shape, 'Size Mismatch'\n",
    "    \n",
    "    if epoch % 10 == 0:\n",
    "        print(epoch, total_cost / 45000)\n",
    "        costs.append(total_cost / 45000)\n"
   ]
  },
  {
   "cell_type": "code",
   "execution_count": null,
   "metadata": {},
   "outputs": [],
   "source": []
  },
  {
   "cell_type": "code",
   "execution_count": null,
   "metadata": {},
   "outputs": [],
   "source": []
  },
  {
   "cell_type": "code",
   "execution_count": null,
   "metadata": {},
   "outputs": [],
   "source": []
  },
  {
   "cell_type": "code",
   "execution_count": null,
   "metadata": {},
   "outputs": [],
   "source": []
  },
  {
   "cell_type": "code",
   "execution_count": null,
   "metadata": {},
   "outputs": [],
   "source": []
  },
  {
   "cell_type": "code",
   "execution_count": null,
   "metadata": {},
   "outputs": [],
   "source": []
  },
  {
   "cell_type": "code",
   "execution_count": null,
   "metadata": {},
   "outputs": [],
   "source": []
  },
  {
   "cell_type": "code",
   "execution_count": 67,
   "metadata": {},
   "outputs": [],
   "source": [
    "import time"
   ]
  },
  {
   "cell_type": "code",
   "execution_count": 68,
   "metadata": {},
   "outputs": [
    {
     "name": "stdout",
     "output_type": "stream",
     "text": [
      "(32, 64) (32, 1)\n",
      "(16, 32) (16, 1)\n",
      "(10, 16) (10, 1)\n"
     ]
    }
   ],
   "source": [
    "W1 = 2*np.random.random((32, 64)) - 1\n",
    "W1 /= 32\n",
    "\n",
    "b1 = 2*np.random.random((32, 1)) - 1\n",
    "\n",
    "W2 = 2*np.random.random((16, 32)) - 1\n",
    "W2 /= 16\n",
    "\n",
    "b2 = 2*np.random.random((16, 1)) - 1\n",
    "\n",
    "W3 = 2*np.random.random((10, 16)) - 1\n",
    "W3 /= 10\n",
    "\n",
    "b3 = 2*np.random.random((10, 1)) - 1\n",
    "\n",
    "print(W1.shape, b1.shape)\n",
    "print(W2.shape, b2.shape)\n",
    "print(W3.shape, b3.shape)\n"
   ]
  },
  {
   "cell_type": "code",
   "execution_count": null,
   "metadata": {},
   "outputs": [],
   "source": []
  },
  {
   "cell_type": "code",
   "execution_count": 69,
   "metadata": {},
   "outputs": [],
   "source": [
    "parameters = {}\n",
    "parameters['W1'] = W1\n",
    "parameters['b1'] = b1\n",
    "parameters['W2'] = W2\n",
    "parameters['b2'] = b2\n",
    "parameters['W3'] = W3\n",
    "parameters['b3'] = b3\n",
    "\n",
    "parameters['num_of_layers'] = 3 # 3 layers since we have to hidden layers and the output layer"
   ]
  },
  {
   "cell_type": "code",
   "execution_count": null,
   "metadata": {},
   "outputs": [],
   "source": []
  },
  {
   "cell_type": "code",
   "execution_count": null,
   "metadata": {},
   "outputs": [],
   "source": []
  },
  {
   "cell_type": "code",
   "execution_count": null,
   "metadata": {},
   "outputs": [],
   "source": []
  },
  {
   "cell_type": "code",
   "execution_count": 70,
   "metadata": {},
   "outputs": [],
   "source": [
    "def feedforward(X, parameters):\n",
    "    cache = {}\n",
    "    cache['A0'] = X\n",
    "    \n",
    "    for i in range(1, parameters['num_of_layers'] + 1):\n",
    "        W = parameters[f'W{i}']\n",
    "        b = parameters[f'b{i}']\n",
    "        A_prev = cache[f'A{i - 1}']\n",
    "        \n",
    "        Z = W.dot(A_prev) + b\n",
    "        A = sigmoid(Z)\n",
    "        \n",
    "        cache[f'A{i}'] = A\n",
    "        \n",
    "    y_pred = A\n",
    "    \n",
    "    return y_pred, cache"
   ]
  },
  {
   "cell_type": "code",
   "execution_count": null,
   "metadata": {},
   "outputs": [],
   "source": []
  },
  {
   "cell_type": "code",
   "execution_count": 71,
   "metadata": {},
   "outputs": [
    {
     "name": "stdout",
     "output_type": "stream",
     "text": [
      "1\n",
      "2\n",
      "3\n"
     ]
    }
   ],
   "source": [
    "L = parameters['num_of_layers']\n",
    "for i in range(1, L + 1):\n",
    "    print(f'{i}')"
   ]
  },
  {
   "cell_type": "code",
   "execution_count": null,
   "metadata": {},
   "outputs": [],
   "source": []
  },
  {
   "cell_type": "code",
   "execution_count": null,
   "metadata": {},
   "outputs": [],
   "source": []
  },
  {
   "cell_type": "code",
   "execution_count": 72,
   "metadata": {},
   "outputs": [],
   "source": [
    "def backpropagation(y_true, y_pred, cache, parameters):\n",
    "    L = parameters['num_of_layers']\n",
    "    m = y_true.shape[1]\n",
    "    errors = {}\n",
    "    \n",
    "    errors[f'delta{L}'] = -(y_true - y_pred) * sigmoid_prime(y_pred)\n",
    "    \n",
    "    for i in range(L, 1, -1):\n",
    "        W = parameters[f'W{i}']\n",
    "        delta = errors[f'delta{i}']\n",
    "        A_prev = cache[f'A{i - 1}']\n",
    "        \n",
    "        delta_prev = W.T.dot(delta) * sigmoid_prime(A_prev)\n",
    "        errors[f'delta{i - 1}'] = delta_prev\n",
    "    \n",
    "    \n",
    "    gradients = {}\n",
    "    for i in range(1, L + 1):\n",
    "        delta = errors[f'delta{i}']\n",
    "        A_prev = cache[f'A{i - 1}']\n",
    "        \n",
    "        dW = delta.dot(A_prev.T) / m\n",
    "        \n",
    "        gradients[f'dW{i}'] = dW\n",
    "    \n",
    "    for i in range(1, L + 1):\n",
    "        delta = errors[f'delta{i}']\n",
    "        db = delta.sum(axis=1, keepdims=True) / m\n",
    "        gradients[f'db{i}'] = db\n",
    "\n",
    "    return gradients"
   ]
  },
  {
   "cell_type": "code",
   "execution_count": null,
   "metadata": {},
   "outputs": [],
   "source": []
  },
  {
   "cell_type": "code",
   "execution_count": 73,
   "metadata": {},
   "outputs": [
    {
     "name": "stdout",
     "output_type": "stream",
     "text": [
      "1\n",
      "2\n",
      "3\n"
     ]
    }
   ],
   "source": [
    "for i in range(1, L + 1):\n",
    "    print(f'{i}')"
   ]
  },
  {
   "cell_type": "code",
   "execution_count": 74,
   "metadata": {},
   "outputs": [],
   "source": [
    "def update_parameters(parameters, gradients, alpha):\n",
    "    \n",
    "    for i in range(1, L + 1):\n",
    "        W = parameters[f'W{i}']\n",
    "        b = parameters[f'b{i}']\n",
    "        dW = gradients[f'dW{i}']\n",
    "        db = gradients[f'db{i}']\n",
    "        \n",
    "        W = W - alpha*dW\n",
    "        b = b - alpha*db\n",
    "    \n",
    "        parameters[f'W{i}'] = W\n",
    "        parameters[f'b{i}'] = b\n",
    "    \n",
    "    return parameters"
   ]
  },
  {
   "cell_type": "code",
   "execution_count": null,
   "metadata": {},
   "outputs": [],
   "source": []
  },
  {
   "cell_type": "code",
   "execution_count": null,
   "metadata": {},
   "outputs": [],
   "source": []
  },
  {
   "cell_type": "code",
   "execution_count": null,
   "metadata": {},
   "outputs": [],
   "source": []
  },
  {
   "cell_type": "markdown",
   "metadata": {},
   "source": [
    "# Batch Gradient Descent"
   ]
  },
  {
   "cell_type": "code",
   "execution_count": null,
   "metadata": {},
   "outputs": [],
   "source": []
  },
  {
   "cell_type": "code",
   "execution_count": 75,
   "metadata": {
    "scrolled": true
   },
   "outputs": [
    {
     "name": "stdout",
     "output_type": "stream",
     "text": [
      "0 1.2773950018604505\n",
      "100 0.44998217072092755\n",
      "200 0.44997139906983274\n",
      "300 0.4499604219714625\n",
      "400 0.4499490839135547\n",
      "500 0.44993723981028805\n",
      "600 0.44992473048491244\n",
      "700 0.449911376767649\n",
      "800 0.4498969721767117\n",
      "900 0.4498812736198113\n",
      "1000 0.44986398936069594\n",
      "1100 0.44984476322108136\n",
      "1200 0.44982315360085745\n",
      "1300 0.44979860535336136\n",
      "1400 0.44977041178296445\n",
      "1500 0.44973766294189765\n",
      "1600 0.4496991748296788\n",
      "1700 0.4496533917220927\n",
      "1800 0.44959824994270087\n",
      "1900 0.4495309841027056\n",
      "2000 0.44944784156880396\n",
      "2100 0.4493436366781974\n",
      "2200 0.44921099866525116\n",
      "2300 0.44903899577316897\n",
      "2400 0.4488104451608254\n",
      "2500 0.4484963782728703\n",
      "2600 0.448044032386392\n",
      "2700 0.4473487532659316\n",
      "2800 0.4461810311459112\n",
      "2900 0.44397484451537245\n",
      "3000 0.43923076189562466\n",
      "3100 0.4295226789711783\n",
      "3200 0.4191150769103871\n",
      "3300 0.41314106065414286\n",
      "3400 0.40898218611469467\n",
      "3500 0.4050936658615265\n",
      "3600 0.40113106078195454\n",
      "3700 0.39715044285209533\n",
      "3800 0.39330147930324166\n",
      "3900 0.38966468600445625\n",
      "4000 0.3862356556046477\n",
      "4100 0.38298417825111003\n",
      "4200 0.37988281939392843\n",
      "4300 0.3768904427092709\n",
      "4400 0.373936719120159\n",
      "4500 0.37089947290577574\n",
      "4600 0.3675525090492677\n",
      "4700 0.36345025386932395\n",
      "4800 0.35759131981549325\n",
      "4900 0.34743058879014294\n",
      "5000 0.3300220057170185\n",
      "5100 0.31321533198072743\n",
      "5200 0.2993792038117828\n",
      "5300 0.28388326702879446\n",
      "5400 0.2654418398117934\n",
      "5500 0.24615753910489171\n",
      "5600 0.22887754810421782\n",
      "5700 0.21485542921739176\n",
      "5800 0.20306852025863895\n",
      "5900 0.19232784465070274\n",
      "6000 0.181977467136259\n",
      "6100 0.17186292515136528\n",
      "6200 0.16213300999074465\n",
      "6300 0.15297696139569256\n",
      "6400 0.14446919630067886\n",
      "6500 0.13655771766093913\n",
      "6600 0.1291177281831828\n",
      "6700 0.12202082944598713\n",
      "6800 0.11520403761708377\n",
      "6900 0.10870839436065495\n",
      "7000 0.1026481143270942\n",
      "7100 0.09713053680098245\n",
      "7200 0.09220039550098146\n",
      "7300 0.0878392506180864\n",
      "7400 0.08399248871556196\n",
      "7500 0.08059411647694596\n",
      "7600 0.07758045722494437\n",
      "7700 0.07489533418333347\n",
      "7800 0.07249095348237973\n",
      "7900 0.07032716972769171\n",
      "8000 0.0683703560155823\n",
      "8100 0.06659231308191298\n",
      "8200 0.06496933152517081\n",
      "8300 0.06348141540911034\n",
      "8400 0.06211164757115861\n",
      "8500 0.060845672448053334\n",
      "8600 0.05967127396715669\n",
      "8700 0.05857802921409481\n",
      "8800 0.05755702187673871\n",
      "8900 0.05660060261388839\n",
      "9000 0.055702186538764915\n",
      "9100 0.05485608091942681\n",
      "9200 0.05405733871774149\n",
      "9300 0.0533016353067129\n",
      "9400 0.05258516638790299\n",
      "9500 0.05190456496349143\n",
      "9600 0.051256834720496386\n",
      "9700 0.050639296864441734\n",
      "9800 0.050049547517072815\n",
      "9900 0.04948542319432103\n",
      "10000 0.04894497240887435\n",
      "10100 0.04842643193396459\n",
      "10200 0.04792820665140181\n",
      "10300 0.047448852187710874\n",
      "10400 0.04698705974461309\n",
      "10500 0.04654164267970873\n",
      "10600 0.04611152450582809\n",
      "10700 0.04569572806167324\n",
      "10800 0.04529336566807283\n",
      "10900 0.04490363012943978\n",
      "11000 0.04452578647503464\n",
      "11100 0.04415916436450918\n",
      "11200 0.043803151109682456\n",
      "11300 0.04345718528934885\n",
      "11400 0.043120750953429224\n",
      "11500 0.0427933724233679\n",
      "11600 0.042474609694949685\n",
      "11700 0.04216405443804241\n",
      "11800 0.041861326568655134\n",
      "11900 0.041566071347585144\n",
      "12000 0.04127795694227806\n",
      "12100 0.04099667237808462\n",
      "12200 0.040721925803078866\n",
      "12300 0.04045344299597757\n",
      "12400 0.04019096605711926\n",
      "12500 0.0399342522352848\n",
      "12600 0.039683072856144974\n",
      "12700 0.039437212329809686\n",
      "12800 0.0391964672245136\n",
      "12900 0.03896064540061957\n",
      "13000 0.03872956520385763\n",
      "13100 0.038503054719249745\n",
      "13200 0.03828095108779059\n",
      "13300 0.038063099887067825\n",
      "13400 0.037849354575080374\n",
      "13500 0.03763957599407433\n",
      "13600 0.03743363192877007\n",
      "13700 0.03723139671133245\n",
      "13800 0.0370327508641432\n",
      "13900 0.03683758077100942\n",
      "14000 0.036645778367890285\n",
      "14100 0.03645724084541815\n",
      "14200 0.036271870357237036\n",
      "14300 0.03608957373024668\n",
      "14400 0.03591026217498264\n",
      "14500 0.035733850996369845\n",
      "14600 0.03556025930677162\n",
      "14700 0.03538940974449514\n",
      "14800 0.03522122820163311\n",
      "14900 0.03505564356531746\n",
      "15000 0.03489258747618216\n",
      "15100 0.03473199410718292\n",
      "15200 0.03457379996502577\n",
      "15300 0.034417943715453064\n",
      "15400 0.03426436603264681\n",
      "15500 0.03411300947212996\n",
      "15600 0.03396381836583654\n",
      "15700 0.0338167387375047\n",
      "15800 0.0336717182362142\n",
      "15900 0.03352870608571788\n",
      "16000 0.03338765304716272\n",
      "16100 0.03324851139282883\n",
      "16200 0.03311123488859407\n",
      "16300 0.03297577878293966\n",
      "16400 0.03284209980043085\n",
      "16500 0.032710156137730234\n",
      "16600 0.032579907460331826\n",
      "16700 0.03245131489834519\n",
      "16800 0.032324341039816365\n",
      "16900 0.032198949920253996\n",
      "17000 0.03207510700723965\n",
      "17100 0.03195277917924041\n",
      "17200 0.031831934698011086\n",
      "17300 0.0317125431742651\n",
      "17400 0.03159457552659564\n",
      "17500 0.03147800393393497\n",
      "17600 0.031362801782124236\n",
      "17700 0.031248943605422932\n",
      "17800 0.031136405023990656\n",
      "17900 0.031025162678519635\n",
      "18000 0.03091519416326972\n",
      "18100 0.030806477958762683\n",
      "18200 0.030698993365327\n",
      "18300 0.03059272043856433\n",
      "18400 0.0304876399276428\n",
      "18500 0.03038373321713089\n",
      "18600 0.030280982272882576\n",
      "18700 0.03017936959228781\n",
      "18800 0.030078878159021962\n",
      "18900 0.02997949140227439\n",
      "19000 0.02988119316031353\n",
      "19100 0.029783967648154486\n",
      "19200 0.029687799429035062\n",
      "19300 0.029592673389370938\n",
      "19400 0.02949857471684835\n",
      "19500 0.029405488881315937\n",
      "19600 0.029313401618151384\n",
      "19700 0.029222298913801265\n",
      "19800 0.029132166993216763\n",
      "19900 0.02904299230893505\n",
      "20000 0.028954761531581562\n",
      "20100 0.02886746154159292\n",
      "20200 0.02878107942198194\n",
      "20300 0.028695602451986938\n",
      "20400 0.02861101810146444\n",
      "20500 0.028527314025901827\n",
      "20600 0.028444478061939803\n",
      "20700 0.028362498223309603\n",
      "20800 0.02828136269710091\n",
      "20900 0.02820105984028944\n",
      "21000 0.028121578176463203\n",
      "21100 0.028042906392697985\n",
      "21200 0.02796503333654084\n",
      "21300 0.02788794801307039\n",
      "21400 0.027811639582010574\n",
      "21500 0.027736097354881323\n",
      "21600 0.027661310792176437\n",
      "21700 0.027587269500564025\n",
      "21800 0.027513963230108983\n",
      "21900 0.027441381871521286\n",
      "22000 0.027369515453434756\n",
      "22100 0.027298354139724618\n",
      "22200 0.02722788822687147\n",
      "22300 0.027158108141380463\n",
      "22400 0.027089004437264398\n",
      "22500 0.02702056779359809\n",
      "22600 0.02695278901215196\n",
      "22700 0.026885659015110315\n",
      "22800 0.026819168842879854\n",
      "22900 0.026753309651992317\n",
      "23000 0.02668807271310419\n",
      "23100 0.0266234494090956\n",
      "23200 0.026559431233269086\n",
      "23300 0.026496009787648524\n",
      "23400 0.02643317678137739\n",
      "23500 0.026370924029214454\n",
      "23600 0.026309243450124923\n",
      "23700 0.02624812706596355\n",
      "23800 0.026187567000245767\n",
      "23900 0.02612755547700269\n",
      "24000 0.026068084819714253\n",
      "24100 0.02600914745031506\n",
      "24200 0.025950735888266605\n",
      "24300 0.025892842749688883\n",
      "24400 0.025835460746544837\n",
      "24500 0.025778582685870216\n",
      "24600 0.025722201469041733\n",
      "24700 0.025666310091076356\n",
      "24800 0.025610901639955264\n",
      "24900 0.025555969295965607\n",
      "25000 0.025501506331054573\n",
      "25100 0.02544750610819008\n",
      "25200 0.025393962080723885\n",
      "25300 0.025340867791753065\n",
      "25400 0.02528821687347663\n",
      "25500 0.02523600304654529\n",
      "25600 0.025184220119402717\n",
      "25700 0.025132861987617394\n",
      "25800 0.02508192263320489\n",
      "25900 0.025031396123941185\n",
      "26000 0.024981276612667594\n",
      "26100 0.024931558336588822\n",
      "26200 0.024882235616565575\n",
      "26300 0.0248333028564034\n",
      "26400 0.024784754542139627\n",
      "26500 0.02473658524133017\n",
      "26600 0.02468878960233767\n",
      "26700 0.024641362353622687\n",
      "26800 0.024594298303038928\n",
      "26900 0.024547592337133606\n",
      "27000 0.024501239420453295\n",
      "27100 0.024455234594855765\n",
      "27200 0.024409572978827298\n",
      "27300 0.024364249766805342\n",
      "27400 0.024319260228505366\n",
      "27500 0.024274599708250782\n",
      "27600 0.024230263624304683\n",
      "27700 0.024186247468201343\n",
      "27800 0.024142546804075862\n",
      "27900 0.024099157267989797\n",
      "28000 0.02405607456725081\n",
      "28100 0.02401329447972398\n",
      "28200 0.023970812853133096\n",
      "28300 0.023928625604349423\n",
      "28400 0.023886728718666705\n",
      "28500 0.023845118249060458\n",
      "28600 0.023803790315430267\n",
      "28700 0.023762741103824075\n",
      "28800 0.023721966865643672\n",
      "28900 0.023681463916831076\n",
      "29000 0.023641228637035733\n",
      "29100 0.02360125746876273\n",
      "29200 0.023561546916502907\n",
      "29300 0.02352209354584582\n",
      "29400 0.023482893982576733\n",
      "29500 0.023443944911759686\n",
      "29600 0.02340524307680806\n",
      "29700 0.023366785278545132\n",
      "29800 0.023328568374256852\n",
      "29900 0.023290589276739108\n",
      "30000 0.023252844953342268\n",
      "30100 0.023215332425015372\n",
      "30200 0.023178048765352576\n",
      "30300 0.023140991099644386\n",
      "30400 0.023104156603935888\n",
      "30500 0.023067542504094506\n",
      "30600 0.023031146074889076\n",
      "30700 0.022994964639082224\n",
      "30800 0.022958995566537705\n",
      "30900 0.022923236273344097\n",
      "31000 0.022887684220955908\n",
      "31100 0.022852336915353186\n",
      "31200 0.022817191906220124\n",
      "31300 0.022782246786143056\n",
      "31400 0.022747499189828265\n",
      "31500 0.02271294679333924\n",
      "31600 0.022678587313353368\n"
     ]
    },
    {
     "name": "stdout",
     "output_type": "stream",
     "text": [
      "31700 0.02264441850643757\n",
      "31800 0.0226104381683424\n",
      "31900 0.022576644133313676\n",
      "32000 0.02254303427342119\n",
      "32100 0.022509606497903248\n",
      "32200 0.02247635875252637\n",
      "32300 0.022443289018958937\n",
      "32400 0.02241039531415778\n",
      "32500 0.02237767568976687\n",
      "32600 0.022345128231526807\n",
      "32700 0.022312751058694326\n",
      "32800 0.022280542323470612\n",
      "32900 0.022248500210437675\n",
      "33000 0.022216622936002007\n",
      "33100 0.022184908747844224\n",
      "33200 0.022153355924374514\n",
      "33300 0.022121962774192778\n",
      "33400 0.022090727635553052\n",
      "33500 0.022059648875831468\n",
      "33600 0.0220287248909975\n",
      "33700 0.021997954105087866\n",
      "33800 0.021967334969682763\n",
      "33900 0.021936865963384317\n",
      "34000 0.021906545591296712\n",
      "34100 0.021876372384508222\n",
      "34200 0.021846344899574682\n",
      "34300 0.021816461718004637\n",
      "34400 0.02178672144574598\n",
      "34500 0.0217571227126743\n",
      "34600 0.02172766417208299\n",
      "34700 0.0216983445001753\n",
      "34800 0.02166916239555852\n",
      "34900 0.021640116578740636\n",
      "35000 0.0216112057916297\n",
      "35100 0.021582428797036275\n",
      "35200 0.021553784378179272\n",
      "35300 0.021525271338195776\n",
      "35400 0.021496888499655104\n",
      "35500 0.021468634704077595\n",
      "35600 0.02144050881145887\n",
      "35700 0.021412509699799628\n",
      "35800 0.021384636264641967\n",
      "35900 0.02135688741861259\n",
      "36000 0.021329262090973307\n",
      "36100 0.021301759227179726\n",
      "36200 0.021274377788448387\n",
      "36300 0.021247116751333225\n",
      "36400 0.02121997510731157\n",
      "36500 0.02119295186238062\n",
      "36600 0.02116604603666467\n",
      "36700 0.02113925666403372\n",
      "36800 0.021112582791734048\n",
      "36900 0.021086023480031166\n",
      "37000 0.021059577801865584\n",
      "37100 0.02103324484252197\n",
      "37200 0.02100702369931198\n",
      "37300 0.02098091348127122\n",
      "37400 0.020954913308870587\n",
      "37500 0.02092902231374234\n",
      "37600 0.02090323963842116\n",
      "37700 0.020877564436100258\n",
      "37800 0.02085199587040292\n",
      "37900 0.020826533115169295\n",
      "38000 0.020801175354258603\n",
      "38100 0.020775921781366773\n",
      "38200 0.020750771599859313\n",
      "38300 0.02072572402261915\n",
      "38400 0.020700778271909588\n",
      "38500 0.020675933579251595\n",
      "38600 0.020651189185315274\n",
      "38700 0.020626544339825196\n",
      "38800 0.02060199830147869\n",
      "38900 0.020577550337876862\n",
      "39000 0.02055319972546725\n",
      "39100 0.02052894574949758\n",
      "39200 0.020504787703979756\n",
      "39300 0.020480724891662836\n",
      "39400 0.020456756624014187\n",
      "39500 0.02043288222120758\n",
      "39600 0.020409101012116883\n",
      "39700 0.020385412334314176\n",
      "39800 0.020361815534070717\n",
      "39900 0.0203383099663592\n",
      "40000 0.020314894994856024\n",
      "40100 0.02029156999194146\n",
      "40200 0.02026833433869628\n",
      "40300 0.02024518742489307\n",
      "40400 0.020222128648980174\n",
      "40500 0.020199157418056692\n",
      "40600 0.02017627314783645\n",
      "40700 0.02015347526259922\n",
      "40800 0.02013076319512733\n",
      "40900 0.020108136386625924\n",
      "41000 0.020085594286625135\n",
      "41100 0.020063136352862786\n",
      "41200 0.020040762051145935\n",
      "41300 0.020018470855190314\n",
      "41400 0.01999626224643647\n",
      "41500 0.019974135713841785\n",
      "41600 0.01995209075364809\n",
      "41700 0.019930126869124383\n",
      "41800 0.01990824357028492\n",
      "41900 0.019886440373583104\n",
      "42000 0.019864716801582086\n",
      "42100 0.01984307238260302\n",
      "42200 0.019821506650352778\n",
      "42300 0.019800019143533045\n",
      "42400 0.01977860940543305\n",
      "42500 0.01975727698350841\n",
      "42600 0.019736021428949507\n",
      "42700 0.019714842296242114\n",
      "42800 0.019693739142724077\n",
      "42900 0.019672711528141627\n",
      "43000 0.019651759014208996\n",
      "43100 0.019630881164175395\n",
      "43200 0.01961007754240293\n",
      "43300 0.019589347713959575\n",
      "43400 0.01956869124423047\n",
      "43500 0.019548107698551448\n",
      "43600 0.01952759664186772\n",
      "43700 0.01950715763842081\n",
      "43800 0.019486790251466324\n",
      "43900 0.01946649404302476\n",
      "44000 0.01944626857366738\n",
      "44100 0.019426113402338244\n",
      "44200 0.019406028086213886\n",
      "44300 0.019386012180600588\n",
      "44400 0.019366065238870186\n",
      "44500 0.019346186812433486\n",
      "44600 0.019326376450751033\n",
      "44700 0.01930663370138035\n",
      "44800 0.019286958110058188\n",
      "44900 0.019267349220816316\n",
      "45000 0.019247806576129168\n",
      "45100 0.019228329717091354\n",
      "45200 0.01920891818362286\n",
      "45300 0.019189571514699796\n",
      "45400 0.019170289248608443\n",
      "45500 0.01915107092322\n",
      "45600 0.019131916076284044\n",
      "45700 0.019112824245738\n",
      "45800 0.01909379497003064\n",
      "45900 0.019074827788457063\n",
      "46000 0.019055922241503098\n",
      "46100 0.01903707787119713\n",
      "46200 0.019018294221467034\n",
      "46300 0.01899957083850056\n",
      "46400 0.01898090727110716\n",
      "46500 0.018962303071079503\n",
      "46600 0.018943757793553014\n",
      "46700 0.01892527099736178\n",
      "46800 0.018906842245389403\n",
      "46900 0.018888471104913034\n",
      "47000 0.018870157147939475\n",
      "47100 0.01885189995153169\n",
      "47200 0.01883369909812457\n",
      "47300 0.018815554175828395\n",
      "47400 0.018797464778718888\n",
      "47500 0.01877943050711243\n",
      "47600 0.0187614509678253\n",
      "47700 0.018743525774415504\n",
      "47800 0.01872565454740607\n",
      "47900 0.018707836914488702\n",
      "48000 0.018690072510706323\n",
      "48100 0.018672360978613644\n",
      "48200 0.018654701968414563\n",
      "48300 0.0186370951380753\n",
      "48400 0.018619540153412415\n",
      "48500 0.01860203668815483\n",
      "48600 0.01858458442397894\n",
      "48700 0.01856718305051658\n",
      "48800 0.01854983226533479\n",
      "48900 0.018532531773887587\n",
      "49000 0.018515281289439176\n",
      "49100 0.018498080532958986\n",
      "49200 0.018480929232988406\n",
      "49300 0.018463827125479948\n",
      "49400 0.018446773953609375\n",
      "49500 0.01842976946756161\n",
      "49600 0.01841281342429171\n",
      "49700 0.018395905587262073\n",
      "49800 0.018379045726157475\n",
      "49900 0.018362233616579585\n"
     ]
    }
   ],
   "source": [
    "m = X.shape[1]\n",
    "alpha = 0.9\n",
    "costs = []\n",
    "tic = time.time()\n",
    "for epoch in range(50000):\n",
    "    \n",
    "    ### Shuffling ###\n",
    "    indices = np.arange(X.shape[1])\n",
    "    np.random.shuffle(indices)\n",
    "\n",
    "    X = X[:, indices]\n",
    "    y = y[:, indices]\n",
    "    \n",
    "    #################\n",
    "    \n",
    "    y_true = y\n",
    "    \n",
    "    y_pred, cache = feedforward(X, parameters)\n",
    "\n",
    "    y_true = np.atleast_2d(y_true)\n",
    "    cost = 0.5 * np.sum((y_true - y_pred) ** 2) / m\n",
    "\n",
    "    gradients = backpropagation(y_true, y_pred, cache, parameters)\n",
    "\n",
    "    for i in range(1, parameters['num_of_layers'] + 1):\n",
    "        assert parameters[f'W{i}'].shape == gradients[f'dW{i}'].shape, 'Size Mismatch'\n",
    "        assert parameters[f'b{i}'].shape == gradients[f'db{i}'].shape, 'Size Mismatch'\n",
    "    \n",
    "    # update weights\n",
    "    parameters = update_parameters(parameters=parameters, gradients=gradients, alpha=alpha)\n",
    "\n",
    "    costs.append(cost)\n",
    "    \n",
    "    if epoch % 100 == 0:\n",
    "        print(epoch, cost)\n",
    "toc = time.time()"
   ]
  },
  {
   "cell_type": "code",
   "execution_count": 76,
   "metadata": {},
   "outputs": [
    {
     "data": {
      "text/plain": [
       "1.9698187483019298"
      ]
     },
     "execution_count": 76,
     "metadata": {},
     "output_type": "execute_result"
    }
   ],
   "source": [
    "(toc - tic) / 3600"
   ]
  },
  {
   "cell_type": "code",
   "execution_count": null,
   "metadata": {},
   "outputs": [],
   "source": []
  },
  {
   "cell_type": "code",
   "execution_count": null,
   "metadata": {},
   "outputs": [],
   "source": []
  },
  {
   "cell_type": "code",
   "execution_count": 80,
   "metadata": {},
   "outputs": [
    {
     "data": {
      "text/plain": [
       "(64, 15000)"
      ]
     },
     "execution_count": 80,
     "metadata": {},
     "output_type": "execute_result"
    }
   ],
   "source": [
    "A0 = X_test.T\n",
    "A0.shape"
   ]
  },
  {
   "cell_type": "code",
   "execution_count": 81,
   "metadata": {},
   "outputs": [
    {
     "data": {
      "text/plain": [
       "(10, 15000)"
      ]
     },
     "execution_count": 81,
     "metadata": {},
     "output_type": "execute_result"
    }
   ],
   "source": [
    "y_true = y_test.T\n",
    "y_true.shape"
   ]
  },
  {
   "cell_type": "code",
   "execution_count": 82,
   "metadata": {},
   "outputs": [],
   "source": [
    "y_pred, _ = feedforward(A0, parameters)"
   ]
  },
  {
   "cell_type": "code",
   "execution_count": 83,
   "metadata": {},
   "outputs": [
    {
     "name": "stdout",
     "output_type": "stream",
     "text": [
      "(10, 15000)\n",
      "(10, 15000)\n"
     ]
    }
   ],
   "source": [
    "print(y_pred.shape)\n",
    "print(y_true.shape)"
   ]
  },
  {
   "cell_type": "code",
   "execution_count": 84,
   "metadata": {},
   "outputs": [
    {
     "data": {
      "text/plain": [
       "50000"
      ]
     },
     "execution_count": 84,
     "metadata": {},
     "output_type": "execute_result"
    }
   ],
   "source": [
    "len(costs)"
   ]
  },
  {
   "cell_type": "code",
   "execution_count": 85,
   "metadata": {},
   "outputs": [
    {
     "data": {
      "text/plain": [
       "array([[3.54674084e-02, 9.64876300e-01, 4.65645688e-06, ...,\n",
       "        5.35647732e-06, 1.50573471e-06, 4.30081574e-04],\n",
       "       [9.98270888e-04, 2.98824193e-03, 1.50365706e-03, ...,\n",
       "        2.85931517e-03, 1.08044642e-02, 4.73972712e-05],\n",
       "       [4.06311892e-07, 2.65219978e-07, 9.98589657e-01, ...,\n",
       "        9.75858153e-01, 6.57909667e-03, 6.50065717e-03],\n",
       "       ...,\n",
       "       [2.12011209e-04, 4.43436761e-03, 2.26704947e-05, ...,\n",
       "        1.35776643e-04, 3.75621724e-06, 7.73895560e-04],\n",
       "       [9.97456876e-01, 1.29018163e-03, 1.51281044e-07, ...,\n",
       "        3.26763908e-08, 9.69978458e-03, 3.99399264e-03],\n",
       "       [6.44959252e-04, 1.36965204e-08, 1.86138399e-03, ...,\n",
       "        1.37992803e-04, 2.99254299e-03, 4.06310347e-09]])"
      ]
     },
     "execution_count": 85,
     "metadata": {},
     "output_type": "execute_result"
    }
   ],
   "source": [
    "y_pred"
   ]
  },
  {
   "cell_type": "code",
   "execution_count": 86,
   "metadata": {},
   "outputs": [
    {
     "name": "stdout",
     "output_type": "stream",
     "text": [
      "              precision    recall  f1-score   support\n",
      "\n",
      "           0       0.94      0.92      0.93      1500\n",
      "           1       0.93      0.94      0.94      1500\n",
      "           2       0.99      0.99      0.99      1500\n",
      "           3       0.99      0.98      0.99      1500\n",
      "           4       0.98      0.99      0.99      1500\n",
      "           5       0.99      0.98      0.98      1500\n",
      "           6       0.98      0.99      0.99      1500\n",
      "           7       0.99      0.99      0.99      1500\n",
      "           8       0.99      0.98      0.98      1500\n",
      "           9       0.98      0.98      0.98      1500\n",
      "\n",
      "   micro avg       0.98      0.98      0.98     15000\n",
      "   macro avg       0.98      0.98      0.98     15000\n",
      "weighted avg       0.98      0.98      0.98     15000\n",
      "\n"
     ]
    }
   ],
   "source": [
    "my_labels_pred = binarizer.inverse_transform(y_pred.T)\n",
    "print(classification_report(test_data[output], my_labels_pred))"
   ]
  },
  {
   "cell_type": "code",
   "execution_count": null,
   "metadata": {},
   "outputs": [],
   "source": []
  },
  {
   "cell_type": "code",
   "execution_count": 87,
   "metadata": {},
   "outputs": [
    {
     "data": {
      "text/plain": [
       "[<matplotlib.lines.Line2D at 0x1a212c8f60>]"
      ]
     },
     "execution_count": 87,
     "metadata": {},
     "output_type": "execute_result"
    },
    {
     "data": {
      "image/png": "[encoded data removed]",
      "text/plain": [
       "<Figure size 432x288 with 1 Axes>"
      ]
     },
     "metadata": {},
     "output_type": "display_data"
    }
   ],
   "source": [
    "plt.plot(costs)"
   ]
  },
  {
   "cell_type": "code",
   "execution_count": null,
   "metadata": {},
   "outputs": [],
   "source": []
  },
  {
   "cell_type": "code",
   "execution_count": null,
   "metadata": {},
   "outputs": [],
   "source": []
  },
  {
   "cell_type": "markdown",
   "metadata": {},
   "source": [
    "# Mini-Batch Gradient Descent"
   ]
  },
  {
   "cell_type": "code",
   "execution_count": null,
   "metadata": {},
   "outputs": [],
   "source": []
  },
  {
   "cell_type": "code",
   "execution_count": 201,
   "metadata": {},
   "outputs": [
    {
     "name": "stdout",
     "output_type": "stream",
     "text": [
      "(32, 64) (32, 1)\n",
      "(16, 32) (16, 1)\n",
      "(10, 16) (10, 1)\n"
     ]
    }
   ],
   "source": [
    "W1 = 2*np.random.random((32, 64)) - 1\n",
    "W1 /= 32\n",
    "\n",
    "b1 = 2*np.random.random((32, 1)) - 1\n",
    "\n",
    "W2 = 2*np.random.random((16, 32)) - 1\n",
    "W2 /= 16\n",
    "\n",
    "b2 = 2*np.random.random((16, 1)) - 1\n",
    "\n",
    "W3 = 2*np.random.random((10, 16)) - 1\n",
    "W3 /= 10\n",
    "\n",
    "b3 = 2*np.random.random((10, 1)) - 1\n",
    "\n",
    "print(W1.shape, b1.shape)\n",
    "print(W2.shape, b2.shape)\n",
    "print(W3.shape, b3.shape)\n"
   ]
  },
  {
   "cell_type": "code",
   "execution_count": 202,
   "metadata": {},
   "outputs": [],
   "source": [
    "parameters = {}\n",
    "parameters['W1'] = W1\n",
    "parameters['b1'] = b1\n",
    "parameters['W2'] = W2\n",
    "parameters['b2'] = b2\n",
    "parameters['W3'] = W3\n",
    "parameters['b3'] = b3\n",
    "\n",
    "parameters['num_of_layers'] = 3 # 3 layers since we have to hidden layers and the output layer"
   ]
  },
  {
   "cell_type": "code",
   "execution_count": null,
   "metadata": {},
   "outputs": [],
   "source": []
  },
  {
   "cell_type": "code",
   "execution_count": 203,
   "metadata": {},
   "outputs": [],
   "source": [
    "def get_mini_batches(X, y, batch_size):\n",
    "    assert X.shape[1] == y.shape[1], 'Size Mismatch'\n",
    "    m = X.shape[1]\n",
    "    num_of_mini_batches = m // batch_size\n",
    "\n",
    "    for i in range(num_of_mini_batches):\n",
    "        start = i * batch_size\n",
    "        end = start + batch_size\n",
    "        mini_bacth_X = X[:, start:end]\n",
    "        mini_batch_y = y[:, start:end]\n",
    "        yield mini_bacth_X, mini_batch_y\n",
    "\n",
    "    if m % batch_size != 0:\n",
    "        last_mini_bacth_X = X[:, end:]\n",
    "        last_mini_bacth_y = y[:, end:]\n",
    "        yield last_mini_bacth_X, last_mini_bacth_y"
   ]
  },
  {
   "cell_type": "code",
   "execution_count": null,
   "metadata": {},
   "outputs": [],
   "source": []
  },
  {
   "cell_type": "code",
   "execution_count": 204,
   "metadata": {},
   "outputs": [
    {
     "name": "stdout",
     "output_type": "stream",
     "text": [
      "128\n"
     ]
    }
   ],
   "source": [
    "batch_size = 128\n",
    "print(batch_size)"
   ]
  },
  {
   "cell_type": "code",
   "execution_count": null,
   "metadata": {},
   "outputs": [],
   "source": []
  },
  {
   "cell_type": "code",
   "execution_count": 205,
   "metadata": {},
   "outputs": [
    {
     "name": "stdout",
     "output_type": "stream",
     "text": [
      "0 0.0012938026110962586\n",
      "10 0.0010856389008924126\n",
      "20 0.0001885177635576208\n",
      "30 0.00011979551005297127\n",
      "40 9.625371359433648e-05\n",
      "50 8.437915733362534e-05\n",
      "60 7.68300785254759e-05\n",
      "70 7.128842688585163e-05\n",
      "80 6.67824501115348e-05\n",
      "90 6.35174453577128e-05\n",
      "100 6.069655812104624e-05\n",
      "110 5.806869097491302e-05\n",
      "120 5.600392585905865e-05\n",
      "130 5.430316443595128e-05\n",
      "140 5.2689343467474504e-05\n",
      "150 5.1069556322421725e-05\n",
      "160 4.9766937846419445e-05\n",
      "170 4.8661358566293756e-05\n",
      "180 4.757259480012482e-05\n",
      "190 4.6524943578751683e-05\n",
      "200 4.551853936722294e-05\n",
      "210 4.479541851057042e-05\n",
      "220 4.384372921315022e-05\n",
      "230 4.305373543524402e-05\n",
      "240 4.225478465235355e-05\n",
      "250 4.1739939606142405e-05\n",
      "260 4.1002768530756726e-05\n",
      "270 4.04600172806477e-05\n",
      "280 3.990900923031224e-05\n",
      "290 3.928479122386993e-05\n",
      "300 3.8878826574865834e-05\n",
      "310 3.829850846690004e-05\n",
      "320 3.780260584635125e-05\n",
      "330 3.7205495839443465e-05\n",
      "340 3.684820837968805e-05\n",
      "350 3.646388816909495e-05\n",
      "360 3.604889173632973e-05\n",
      "370 3.573509394476499e-05\n",
      "380 3.5184671266039675e-05\n",
      "390 3.480546012451477e-05\n",
      "400 3.444764837350981e-05\n",
      "410 3.398090365344986e-05\n",
      "420 3.364959912883209e-05\n",
      "430 3.335393188196832e-05\n",
      "440 3.294923623689316e-05\n",
      "450 3.260242171673643e-05\n",
      "460 3.2314947805433024e-05\n",
      "470 3.201742921027653e-05\n",
      "480 3.167244213174654e-05\n",
      "490 3.136764566737771e-05\n",
      "500 3.100678419088832e-05\n",
      "510 3.0521832095094665e-05\n",
      "520 3.0399356466879565e-05\n",
      "530 3.026571309512826e-05\n",
      "540 2.9747256239775422e-05\n",
      "550 2.943246184314957e-05\n",
      "560 2.9211438012474603e-05\n",
      "570 2.907929916187437e-05\n",
      "580 2.8644729142418253e-05\n",
      "590 2.844541398437268e-05\n",
      "600 2.807784303027433e-05\n",
      "610 2.7811059939296343e-05\n",
      "620 2.7505846519011926e-05\n",
      "630 2.73999296034392e-05\n",
      "640 2.7110734244762284e-05\n",
      "650 2.6971735475285352e-05\n",
      "660 2.6751700202707134e-05\n",
      "670 2.644812938168163e-05\n",
      "680 2.633436605935362e-05\n",
      "690 2.6005160972592324e-05\n",
      "700 2.5876541418434826e-05\n",
      "710 2.551051449462469e-05\n",
      "720 2.5375236067433617e-05\n",
      "730 2.5354628507800984e-05\n",
      "740 2.4963096217842716e-05\n",
      "750 2.4671701708817583e-05\n",
      "760 2.4513584752790782e-05\n",
      "770 2.431880116954891e-05\n",
      "780 2.4116992923785358e-05\n",
      "790 2.394985800941101e-05\n",
      "800 2.380239917587363e-05\n",
      "810 2.366269758276257e-05\n",
      "820 2.3403065248362766e-05\n",
      "830 2.3304284568774004e-05\n",
      "840 2.279400008734759e-05\n",
      "850 2.281597980969867e-05\n",
      "860 2.2742637296864488e-05\n",
      "870 2.2548100085093267e-05\n",
      "880 2.2323873007006265e-05\n",
      "890 2.218133521025907e-05\n",
      "900 2.209412565024127e-05\n",
      "910 2.1961497048602108e-05\n",
      "920 2.184376594226323e-05\n",
      "930 2.1466113994471713e-05\n",
      "940 2.1592227236615923e-05\n",
      "950 2.125099281677957e-05\n",
      "960 2.1230569948017708e-05\n",
      "970 2.1059710610060666e-05\n",
      "980 2.077145516558092e-05\n",
      "990 2.0886622397545184e-05\n",
      "1000 2.0662134217171204e-05\n",
      "1010 2.0490754043263622e-05\n",
      "1020 2.039434734646327e-05\n",
      "1030 2.030251399561718e-05\n",
      "1040 2.0183346022045916e-05\n",
      "1050 2.0123778235081196e-05\n",
      "1060 1.992342422044986e-05\n",
      "1070 1.97745753910685e-05\n",
      "1080 1.9734300942607895e-05\n",
      "1090 1.96545517030005e-05\n",
      "1100 1.9396455803696143e-05\n",
      "1110 1.9420846458070323e-05\n",
      "1120 1.9248306345512213e-05\n",
      "1130 1.91483424395578e-05\n",
      "1140 1.8833105522894826e-05\n",
      "1150 1.893753709697318e-05\n",
      "1160 1.8722597235017366e-05\n",
      "1170 1.8846863545361868e-05\n",
      "1180 1.8779194149255935e-05\n",
      "1190 1.8491649942737338e-05\n",
      "1200 1.84592439433587e-05\n",
      "1210 1.855221246021575e-05\n",
      "1220 1.8240205479065903e-05\n",
      "1230 1.825231072666288e-05\n",
      "1240 1.8036040560435352e-05\n",
      "1250 1.8085138881545723e-05\n",
      "1260 1.7960602821756225e-05\n",
      "1270 1.794391143457109e-05\n",
      "1280 1.7850804512856653e-05\n",
      "1290 1.7829447892928998e-05\n",
      "1300 1.775846093635532e-05\n",
      "1310 1.763828520007179e-05\n",
      "1320 1.760362879707551e-05\n",
      "1330 1.7419946164362564e-05\n",
      "1340 1.7376821166844844e-05\n",
      "1350 1.726509198997642e-05\n",
      "1360 1.733757344690425e-05\n",
      "1370 1.7161332022168714e-05\n",
      "1380 1.696885373115821e-05\n",
      "1390 1.7096799160451695e-05\n",
      "1400 1.6982898356275377e-05\n",
      "1410 1.694973450823726e-05\n",
      "1420 1.6834260287536355e-05\n",
      "1430 1.6838292075562307e-05\n",
      "1440 1.6686293397642057e-05\n",
      "1450 1.6737122636139825e-05\n",
      "1460 1.6602330083230857e-05\n",
      "1470 1.6523569426731537e-05\n",
      "1480 1.6391646560611775e-05\n",
      "1490 1.642788382059241e-05\n",
      "1500 1.6307048941091077e-05\n",
      "1510 1.6208432707132215e-05\n",
      "1520 1.6260673475246085e-05\n",
      "1530 1.6069651443604313e-05\n",
      "1540 1.605218664469545e-05\n",
      "1550 1.6210760556917598e-05\n",
      "1560 1.6021578850231475e-05\n",
      "1570 1.5931683795488037e-05\n",
      "1580 1.580714872422379e-05\n",
      "1590 1.593956922204068e-05\n",
      "1600 1.5728026325853782e-05\n",
      "1610 1.580994740619379e-05\n",
      "1620 1.5761154428757278e-05\n",
      "1630 1.563525267913407e-05\n",
      "1640 1.5658926035145296e-05\n",
      "1650 1.5521691333677296e-05\n",
      "1660 1.5657096209672146e-05\n",
      "1670 1.553463266079537e-05\n",
      "1680 1.5374398370779404e-05\n",
      "1690 1.532167887511287e-05\n",
      "1700 1.5429662904385492e-05\n",
      "1710 1.5288105184604702e-05\n",
      "1720 1.526022642954512e-05\n",
      "1730 1.5235000875538985e-05\n",
      "1740 1.5155901773960975e-05\n",
      "1750 1.5184388138958591e-05\n",
      "1760 1.5159878838542699e-05\n",
      "1770 1.519711464961558e-05\n",
      "1780 1.5165522386072456e-05\n",
      "1790 1.4988618758553857e-05\n",
      "1800 1.4874282278103016e-05\n",
      "1810 1.4834150404796647e-05\n",
      "1820 1.4827203427426699e-05\n",
      "1830 1.4737658015450306e-05\n",
      "1840 1.4760331474051945e-05\n",
      "1850 1.4715793335057414e-05\n",
      "1860 1.468948763624984e-05\n",
      "1870 1.4717479870940793e-05\n",
      "1880 1.4602441123780272e-05\n",
      "1890 1.4655240160793168e-05\n",
      "1900 1.464138152617905e-05\n",
      "1910 1.4629250060040569e-05\n",
      "1920 1.4471184600338302e-05\n",
      "1930 1.4487702647431054e-05\n",
      "1940 1.4535864174117501e-05\n",
      "1950 1.4410901114363406e-05\n",
      "1960 1.438484258087424e-05\n",
      "1970 1.4352492107253282e-05\n",
      "1980 1.4473466169008043e-05\n",
      "1990 1.4302230852606936e-05\n",
      "2000 1.4378317205232011e-05\n",
      "2010 1.4197984583827262e-05\n",
      "2020 1.4435799604793126e-05\n",
      "2030 1.4175128067459502e-05\n",
      "2040 1.4222034942123556e-05\n",
      "2050 1.4174406315092901e-05\n",
      "2060 1.4191307472452313e-05\n",
      "2070 1.4131315423805057e-05\n",
      "2080 1.4133864089809704e-05\n",
      "2090 1.4086740225853852e-05\n",
      "2100 1.4228385240837577e-05\n",
      "2110 1.4210392962150151e-05\n",
      "2120 1.4131627354904405e-05\n",
      "2130 1.4033471451943785e-05\n",
      "2140 1.3962954932611069e-05\n",
      "2150 1.3926229775637767e-05\n",
      "2160 1.4047293278985879e-05\n",
      "2170 1.399054950659868e-05\n",
      "2180 1.4166449194666321e-05\n",
      "2190 1.3962131461501972e-05\n",
      "2200 1.3949437656566932e-05\n",
      "2210 1.380136333852568e-05\n",
      "2220 1.388780878437363e-05\n",
      "2230 1.3786369637350318e-05\n",
      "2240 1.3888174883997906e-05\n",
      "2250 1.3782005878805458e-05\n",
      "2260 1.3722036770979795e-05\n",
      "2270 1.3764318612474002e-05\n",
      "2280 1.3756192844590288e-05\n",
      "2290 1.3805364417702151e-05\n",
      "2300 1.3646091760624818e-05\n",
      "2310 1.36431925095496e-05\n",
      "2320 1.3637892720897446e-05\n",
      "2330 1.362826524219091e-05\n",
      "2340 1.3569882384149587e-05\n",
      "2350 1.3763265510329202e-05\n",
      "2360 1.3543135533887304e-05\n",
      "2370 1.35379624609719e-05\n",
      "2380 1.3494603733903673e-05\n",
      "2390 1.3515733154695332e-05\n",
      "2400 1.3642936682058473e-05\n",
      "2410 1.3479747359371623e-05\n",
      "2420 1.3488566781772987e-05\n",
      "2430 1.3457226603925042e-05\n",
      "2440 1.3448947888793502e-05\n",
      "2450 1.3781742846586136e-05\n",
      "2460 1.3412419640866325e-05\n",
      "2470 1.3395805838926042e-05\n",
      "2480 1.3418358588456726e-05\n",
      "2490 1.3377824772902172e-05\n",
      "2500 1.3410611657018807e-05\n",
      "2510 1.3357040288137551e-05\n",
      "2520 1.3385614105263604e-05\n",
      "2530 1.3445923658119444e-05\n",
      "2540 1.331618758752137e-05\n",
      "2550 1.3324875748882849e-05\n",
      "2560 1.3296326939168397e-05\n",
      "2570 1.3283761319392519e-05\n",
      "2580 1.3273996385583498e-05\n",
      "2590 1.3235916127949717e-05\n",
      "2600 1.3245094266229523e-05\n",
      "2610 1.3220082571997436e-05\n",
      "2620 1.3222768394064071e-05\n",
      "2630 1.3192929019085612e-05\n",
      "2640 1.3308259430548052e-05\n",
      "2650 1.3191036858745656e-05\n",
      "2660 1.319462496877203e-05\n",
      "2670 1.316690459118004e-05\n",
      "2680 1.3185252300301357e-05\n",
      "2690 1.329910593610806e-05\n",
      "2700 1.3127804175103168e-05\n",
      "2710 1.3128037053604541e-05\n",
      "2720 1.312862872703651e-05\n",
      "2730 1.3120655555706587e-05\n",
      "2740 1.3112520118052237e-05\n",
      "2750 1.310139937741905e-05\n",
      "2760 1.3091160910570005e-05\n",
      "2770 1.308595913118196e-05\n",
      "2780 1.3072038492796583e-05\n",
      "2790 1.307135270261398e-05\n",
      "2800 1.3062212938210014e-05\n",
      "2810 1.3220789732169698e-05\n",
      "2820 1.3048753526121169e-05\n",
      "2830 1.3030817160397427e-05\n",
      "2840 1.3075466717161457e-05\n",
      "2850 1.3047254018078203e-05\n",
      "2860 1.301779016193769e-05\n",
      "2870 1.3007516013945016e-05\n",
      "2880 1.3010045775957163e-05\n",
      "2890 1.300504334621127e-05\n",
      "2900 1.2997256232757086e-05\n",
      "2910 1.2990130724563608e-05\n",
      "2920 1.2971837966873265e-05\n",
      "2930 1.301183391778456e-05\n",
      "2940 1.2955703982786012e-05\n",
      "2950 1.2948716299972272e-05\n",
      "2960 1.2965525764225898e-05\n",
      "2970 1.2941219603923632e-05\n",
      "2980 1.2941257807222294e-05\n",
      "2990 1.2920276792513197e-05\n",
      "3000 1.296107757793963e-05\n"
     ]
    },
    {
     "name": "stdout",
     "output_type": "stream",
     "text": [
      "3010 1.2966358059732359e-05\n",
      "3020 1.2897874174192144e-05\n",
      "3030 1.290617222941356e-05\n",
      "3040 1.287303996835782e-05\n",
      "3050 1.2891173073868724e-05\n",
      "3060 1.2884961410421972e-05\n",
      "3070 1.284687646639336e-05\n",
      "3080 1.2856029437052388e-05\n",
      "3090 1.2838965240217745e-05\n",
      "3100 1.2835312398538472e-05\n",
      "3110 1.2846812483270843e-05\n",
      "3120 1.2820512730859407e-05\n",
      "3130 1.2853500146874207e-05\n",
      "3140 1.2795927163000174e-05\n",
      "3150 1.2870102452758834e-05\n",
      "3160 1.279504598804762e-05\n",
      "3170 1.2782726062674627e-05\n",
      "3180 1.2787596245317867e-05\n",
      "3190 1.2767879165626862e-05\n",
      "3200 1.2775444496307272e-05\n",
      "3210 1.2760286254003406e-05\n",
      "3220 1.2722422165133336e-05\n",
      "3230 1.270666195629937e-05\n",
      "3240 1.270786810208759e-05\n",
      "3250 1.2684599303449024e-05\n",
      "3260 1.2675249786205425e-05\n",
      "3270 1.2665596299543166e-05\n",
      "3280 1.2660780108210596e-05\n",
      "3290 1.2651775705050282e-05\n",
      "3300 1.262630634227352e-05\n",
      "3310 1.2605089533794196e-05\n",
      "3320 1.258983161204678e-05\n",
      "3330 1.2595751802638951e-05\n",
      "3340 1.2614461823114982e-05\n",
      "3350 1.2585028853445594e-05\n",
      "3360 1.2571501312858262e-05\n",
      "3370 1.2545989401178361e-05\n",
      "3380 1.2549633798092793e-05\n",
      "3390 1.2539807177247942e-05\n",
      "3400 1.253453985777509e-05\n",
      "3410 1.2536320639065873e-05\n",
      "3420 1.251399585088769e-05\n",
      "3430 1.2549769124002205e-05\n",
      "3440 1.2490491865371394e-05\n",
      "3450 1.2538398740664074e-05\n",
      "3460 1.24830493548503e-05\n",
      "3470 1.2505637596674305e-05\n",
      "3480 1.2551823512675231e-05\n",
      "3490 1.2493806117772337e-05\n",
      "3500 1.2635644916839594e-05\n",
      "3510 1.2452494506022897e-05\n",
      "3520 1.246482712376826e-05\n",
      "3530 1.2607532686182576e-05\n",
      "3540 1.2411577066115826e-05\n",
      "3550 1.2580715236016987e-05\n",
      "3560 1.2448201212948679e-05\n",
      "3570 1.2511289504973282e-05\n",
      "3580 1.2417129658503025e-05\n",
      "3590 1.2373379991465058e-05\n",
      "3600 1.2367693938756254e-05\n",
      "3610 1.237434585954734e-05\n",
      "3620 1.2354040451987518e-05\n",
      "3630 1.2337302157768286e-05\n",
      "3640 1.236682537412891e-05\n",
      "3650 1.2362055732644698e-05\n",
      "3660 1.2324194767288488e-05\n",
      "3670 1.230829492958604e-05\n",
      "3680 1.229949281365743e-05\n",
      "3690 1.2286609616490286e-05\n",
      "3700 1.2284569866061422e-05\n",
      "3710 1.227397568875637e-05\n",
      "3720 1.2260228811910203e-05\n",
      "3730 1.2262694937216258e-05\n",
      "3740 1.2264938591533528e-05\n",
      "3750 1.22656479673461e-05\n",
      "3760 1.2263834170513603e-05\n",
      "3770 1.2243622955533978e-05\n",
      "3780 1.2242222553714067e-05\n",
      "3790 1.2238774302801488e-05\n",
      "3800 1.2242593941634814e-05\n",
      "3810 1.224061720027936e-05\n",
      "3820 1.2232223889693156e-05\n",
      "3830 1.223031627417962e-05\n",
      "3840 1.2223788301421088e-05\n",
      "3850 1.2216486060103217e-05\n",
      "3860 1.2211244984604899e-05\n",
      "3870 1.2210245356864061e-05\n",
      "3880 1.220831009809546e-05\n",
      "3890 1.2198819685718187e-05\n",
      "3900 1.219883390698053e-05\n",
      "3910 1.2192760415566367e-05\n",
      "3920 1.2188040878708561e-05\n",
      "3930 1.2187369399547963e-05\n",
      "3940 1.2189490075348026e-05\n",
      "3950 1.2187770538790853e-05\n",
      "3960 1.217688725242866e-05\n",
      "3970 1.2170914070857197e-05\n",
      "3980 1.2166643852108093e-05\n",
      "3990 1.2176831656598277e-05\n",
      "4000 1.2168262709703078e-05\n",
      "4010 1.2165974516523228e-05\n",
      "4020 1.2163871238542546e-05\n",
      "4030 1.215790780792524e-05\n",
      "4040 1.2157610495865182e-05\n",
      "4050 1.2146970358810907e-05\n",
      "4060 1.2147225094448427e-05\n",
      "4070 1.2144746358821005e-05\n",
      "4080 1.214571005845724e-05\n",
      "4090 1.2151889862992598e-05\n",
      "4100 1.2137721149231411e-05\n",
      "4110 1.2137799134810797e-05\n",
      "4120 1.213351152563658e-05\n",
      "4130 1.2130426093926578e-05\n",
      "4140 1.2124366602748212e-05\n",
      "4150 1.21371362629511e-05\n",
      "4160 1.212391733436082e-05\n",
      "4170 1.2119633780128298e-05\n",
      "4180 1.2116030614251384e-05\n",
      "4190 1.2113743514666248e-05\n",
      "4200 1.2105251102392362e-05\n",
      "4210 1.2100554237432603e-05\n",
      "4220 1.209391808289044e-05\n",
      "4230 1.2091841372138703e-05\n",
      "4240 1.2083944597641001e-05\n",
      "4250 1.2081571791330392e-05\n",
      "4260 1.207759301393001e-05\n",
      "4270 1.2068233871093961e-05\n",
      "4280 1.2066770045694062e-05\n",
      "4290 1.2062825579132665e-05\n",
      "4300 1.2061019739350317e-05\n",
      "4310 1.2052607463571111e-05\n",
      "4320 1.2051906878597295e-05\n",
      "4330 1.2049194450172333e-05\n",
      "4340 1.204770368871107e-05\n",
      "4350 1.2049066316865749e-05\n",
      "4360 1.2047690028881415e-05\n",
      "4370 1.2037754904032694e-05\n",
      "4380 1.2037349998636207e-05\n",
      "4390 1.2031544483281464e-05\n",
      "4400 1.2032396959159033e-05\n",
      "4410 1.2033334450761805e-05\n",
      "4420 1.2026047930442147e-05\n",
      "4430 1.2023936077011655e-05\n",
      "4440 1.2023728266269818e-05\n",
      "4450 1.2019505619816425e-05\n",
      "4460 1.2014633257351492e-05\n",
      "4470 1.2018307602518261e-05\n",
      "4480 1.2020121689880415e-05\n",
      "4490 1.2012445789706212e-05\n",
      "4500 1.2008617679299013e-05\n",
      "4510 1.2011661712241564e-05\n",
      "4520 1.2004794686641281e-05\n",
      "4530 1.2000449479355732e-05\n",
      "4540 1.1997270349945984e-05\n",
      "4550 1.1983191644782141e-05\n",
      "4560 1.1979997351321662e-05\n",
      "4570 1.1974561816395551e-05\n",
      "4580 1.1972171134321862e-05\n",
      "4590 1.1968234012399932e-05\n",
      "4600 1.1966106953734689e-05\n",
      "4610 1.1963493782563771e-05\n",
      "4620 1.1959754439587082e-05\n",
      "4630 1.196397616580751e-05\n",
      "4640 1.1955070657327579e-05\n",
      "4650 1.1956084377990635e-05\n",
      "4660 1.1953712356444153e-05\n",
      "4670 1.1949004560665402e-05\n",
      "4680 1.194832859267559e-05\n",
      "4690 1.1943284516718356e-05\n",
      "4700 1.1941596684947233e-05\n",
      "4710 1.1939721130797641e-05\n",
      "4720 1.1942182193950726e-05\n",
      "4730 1.1933381460047563e-05\n",
      "4740 1.1932375265331061e-05\n",
      "4750 1.1927253303847987e-05\n",
      "4760 1.1921824336146118e-05\n",
      "4770 1.1915478193826117e-05\n",
      "4780 1.1913785183566122e-05\n",
      "4790 1.1911535939152607e-05\n",
      "4800 1.1908812708552288e-05\n",
      "4810 1.1910338306577994e-05\n",
      "4820 1.1902439158879103e-05\n",
      "4830 1.1904294698864482e-05\n",
      "4840 1.1898816216983757e-05\n",
      "4850 1.1900439891636727e-05\n",
      "4860 1.1897949885653271e-05\n",
      "4870 1.18950417587324e-05\n",
      "4880 1.1892352740405494e-05\n",
      "4890 1.1899315940159545e-05\n",
      "4900 1.1887958375507685e-05\n",
      "4910 1.189260234081691e-05\n",
      "4920 1.1888452568716144e-05\n",
      "4930 1.1890512089010698e-05\n",
      "4940 1.188668182452472e-05\n",
      "4950 1.1888835598192842e-05\n",
      "4960 1.1882303774116571e-05\n",
      "4970 1.1882377312359122e-05\n",
      "4980 1.187544610262938e-05\n",
      "4990 1.187991035393041e-05\n"
     ]
    }
   ],
   "source": [
    "m = X.shape[1]\n",
    "alpha = 1\n",
    "costs = []\n",
    "tic = time.time()\n",
    "\n",
    "for epoch in range(5000):\n",
    "    \n",
    "    ### Shuffling ###\n",
    "    indices = np.arange(X.shape[1])\n",
    "    np.random.shuffle(indices)\n",
    "    X = X[:, indices]\n",
    "    y = y[:, indices]\n",
    "    #################\n",
    "    total_cost = 0\n",
    "    j = 0\n",
    "    for mini_bacth_X, mini_bacth_y in get_mini_batches(X, y, batch_size):\n",
    "        \n",
    "        y_true = mini_bacth_y\n",
    "\n",
    "        y_pred, cache = feedforward(mini_bacth_X, parameters)\n",
    "\n",
    "        y_true = np.atleast_2d(y_true)\n",
    "        cost = 0.5 * np.sum((y_true - y_pred) ** 2) / m\n",
    "        total_cost += cost\n",
    "        \n",
    "        gradients = backpropagation(y_true, y_pred, cache, parameters)\n",
    "\n",
    "        for i in range(1, parameters['num_of_layers'] + 1):\n",
    "            assert parameters[f'W{i}'].shape == gradients[f'dW{i}'].shape, 'Size Mismatch'\n",
    "            assert parameters[f'b{i}'].shape == gradients[f'db{i}'].shape, 'Size Mismatch'\n",
    "\n",
    "        # update weights\n",
    "        parameters = update_parameters(parameters=parameters, gradients=gradients, alpha=alpha)\n",
    "        j += 1\n",
    "    \n",
    "    avg_cost = total_cost / j\n",
    "    costs.append(avg_cost)\n",
    "    if epoch % 10 == 0:\n",
    "        print(epoch, avg_cost)\n",
    "\n",
    "toc = time.time()"
   ]
  },
  {
   "cell_type": "code",
   "execution_count": null,
   "metadata": {},
   "outputs": [],
   "source": []
  },
  {
   "cell_type": "code",
   "execution_count": 206,
   "metadata": {},
   "outputs": [
    {
     "data": {
      "text/plain": [
       "14.81169508298238"
      ]
     },
     "execution_count": 206,
     "metadata": {},
     "output_type": "execute_result"
    }
   ],
   "source": [
    "(toc - tic) / 60"
   ]
  },
  {
   "cell_type": "code",
   "execution_count": null,
   "metadata": {},
   "outputs": [],
   "source": []
  },
  {
   "cell_type": "code",
   "execution_count": 207,
   "metadata": {},
   "outputs": [
    {
     "data": {
      "text/plain": [
       "(64, 15000)"
      ]
     },
     "execution_count": 207,
     "metadata": {},
     "output_type": "execute_result"
    }
   ],
   "source": [
    "A0 = X_test.T\n",
    "A0.shape"
   ]
  },
  {
   "cell_type": "code",
   "execution_count": 208,
   "metadata": {},
   "outputs": [
    {
     "data": {
      "text/plain": [
       "(10, 15000)"
      ]
     },
     "execution_count": 208,
     "metadata": {},
     "output_type": "execute_result"
    }
   ],
   "source": [
    "y_true = y_test.T\n",
    "y_true.shape"
   ]
  },
  {
   "cell_type": "code",
   "execution_count": 209,
   "metadata": {},
   "outputs": [],
   "source": [
    "y_pred, _ = feedforward(A0, parameters)"
   ]
  },
  {
   "cell_type": "code",
   "execution_count": 210,
   "metadata": {},
   "outputs": [
    {
     "name": "stdout",
     "output_type": "stream",
     "text": [
      "(10, 15000)\n",
      "(10, 15000)\n"
     ]
    }
   ],
   "source": [
    "print(y_pred.shape)\n",
    "print(y_true.shape)"
   ]
  },
  {
   "cell_type": "code",
   "execution_count": 211,
   "metadata": {},
   "outputs": [
    {
     "data": {
      "text/plain": [
       "5000"
      ]
     },
     "execution_count": 211,
     "metadata": {},
     "output_type": "execute_result"
    }
   ],
   "source": [
    "len(costs)"
   ]
  },
  {
   "cell_type": "code",
   "execution_count": 212,
   "metadata": {},
   "outputs": [
    {
     "data": {
      "text/plain": [
       "array([[1.19980187e-04, 9.99998285e-01, 1.83519474e-15, ...,\n",
       "        2.14607051e-12, 5.85830317e-15, 5.07646919e-06],\n",
       "       [7.71506038e-09, 3.22886812e-05, 5.27891450e-09, ...,\n",
       "        3.31756678e-05, 1.58700942e-06, 4.38378065e-14],\n",
       "       [4.86348071e-13, 7.35260760e-12, 9.99999384e-01, ...,\n",
       "        9.99992418e-01, 4.66459410e-05, 3.16618901e-09],\n",
       "       ...,\n",
       "       [9.26181968e-12, 2.29008584e-03, 3.47502009e-09, ...,\n",
       "        4.35871572e-08, 6.54719797e-10, 1.06914575e-11],\n",
       "       [9.99639402e-01, 2.66728296e-07, 5.14522534e-08, ...,\n",
       "        1.40254191e-11, 6.08678560e-10, 6.23581714e-05],\n",
       "       [6.07979127e-06, 1.25677637e-09, 1.79907282e-06, ...,\n",
       "        9.98229458e-09, 4.75568356e-06, 1.77643577e-15]])"
      ]
     },
     "execution_count": 212,
     "metadata": {},
     "output_type": "execute_result"
    }
   ],
   "source": [
    "y_pred"
   ]
  },
  {
   "cell_type": "code",
   "execution_count": 213,
   "metadata": {},
   "outputs": [
    {
     "name": "stdout",
     "output_type": "stream",
     "text": [
      "              precision    recall  f1-score   support\n",
      "\n",
      "           0       0.92      0.92      0.92      1500\n",
      "           1       0.93      0.93      0.93      1500\n",
      "           2       0.99      0.99      0.99      1500\n",
      "           3       0.99      0.99      0.99      1500\n",
      "           4       0.99      0.99      0.99      1500\n",
      "           5       0.99      0.98      0.98      1500\n",
      "           6       0.98      0.99      0.98      1500\n",
      "           7       0.99      0.99      0.99      1500\n",
      "           8       0.99      0.99      0.99      1500\n",
      "           9       0.98      0.98      0.98      1500\n",
      "\n",
      "   micro avg       0.97      0.97      0.97     15000\n",
      "   macro avg       0.97      0.97      0.97     15000\n",
      "weighted avg       0.97      0.97      0.97     15000\n",
      "\n"
     ]
    }
   ],
   "source": [
    "my_labels_pred = binarizer.inverse_transform(y_pred.T)\n",
    "print(classification_report(test_data[output], my_labels_pred))"
   ]
  },
  {
   "cell_type": "code",
   "execution_count": null,
   "metadata": {},
   "outputs": [],
   "source": []
  },
  {
   "cell_type": "code",
   "execution_count": 180,
   "metadata": {},
   "outputs": [
    {
     "data": {
      "text/plain": [
       "[<matplotlib.lines.Line2D at 0x1a212e5048>]"
      ]
     },
     "execution_count": 180,
     "metadata": {},
     "output_type": "execute_result"
    },
    {
     "data": {
      "image/png": "[encoded data removed]",
      "text/plain": [
       "<Figure size 432x288 with 1 Axes>"
      ]
     },
     "metadata": {},
     "output_type": "display_data"
    }
   ],
   "source": [
    "plt.plot(costs)"
   ]
  },
  {
   "cell_type": "code",
   "execution_count": null,
   "metadata": {},
   "outputs": [],
   "source": []
  }
 ],
 "metadata": {
  "colab": {
   "collapsed_sections": [],
   "name": "Code.ipynb",
   "provenance": [],
   "version": "0.3.2"
  },
  "kernelspec": {
   "display_name": "Python 3",
   "language": "python",
   "name": "python3"
  },
  "language_info": {
   "codemirror_mode": {
    "name": "ipython",
    "version": 3
   },
   "file_extension": ".py",
   "mimetype": "text/x-python",
   "name": "python",
   "nbconvert_exporter": "python",
   "pygments_lexer": "ipython3",
   "version": "3.6.5"
  }
 },
 "nbformat": 4,
 "nbformat_minor": 1
}
