{
 "cells": [
  {
   "cell_type": "code",
   "execution_count": 1,
   "metadata": {
    "colab": {},
    "colab_type": "code",
    "id": "eSBfoTbxl5xH"
   },
   "outputs": [],
   "source": [
    "from neuralnetwork import NeuralNetwork\n",
    "from simplepreprocessor import SimplePreprocessor\n",
    "from sklearn.model_selection import train_test_split\n",
    "from sklearn.preprocessing import LabelBinarizer\n",
    "\n",
    "from os import listdir\n",
    "from os.path import isfile, join\n",
    "import numpy as np\n",
    "import cv2\n",
    "import pandas as pd"
   ]
  },
  {
   "cell_type": "code",
   "execution_count": 2,
   "metadata": {
    "colab": {
     "base_uri": "https://localhost:8080/",
     "height": 11985
    },
    "colab_type": "code",
    "executionInfo": {
     "elapsed": 7543,
     "status": "ok",
     "timestamp": 1552509269703,
     "user": {
      "displayName": "Faris Alasmary",
      "photoUrl": "",
      "userId": "17258654308117726454"
     },
     "user_tz": -180
    },
    "id": "97kFwFIamb5Y",
    "outputId": "382ad704-0033-490e-cb7b-9152649e61d8"
   },
   "outputs": [
    {
     "name": "stdout",
     "output_type": "stream",
     "text": [
      "AHDBase_TrainingSet/: Part12\n",
      "AHDBase_TrainingSet/: Part06\n",
      "AHDBase_TrainingSet/: Part01\n",
      "AHDBase_TrainingSet/: Part08\n",
      "AHDBase_TrainingSet/: Part09\n",
      "AHDBase_TrainingSet/: Part07\n",
      "AHDBase_TrainingSet/: Part10\n",
      "AHDBase_TrainingSet/: Part11\n",
      "AHDBase_TrainingSet/: Part02\n",
      "AHDBase_TrainingSet/: Part05\n",
      "AHDBase_TrainingSet/: Part04\n",
      "AHDBase_TrainingSet/: Part03\n",
      "Images in folder AHDBase_TrainingSet/ have been successfully saved in AHDBase_TrainingSet.csv file\n",
      "AHDBase_TestingSet/: Part01\n",
      "AHDBase_TestingSet/: Part02\n",
      "Images in folder AHDBase_TestingSet/ have been successfully saved in AHDBase_TestingSet.csv file\n"
     ]
    }
   ],
   "source": [
    "processor = SimplePreprocessor(8, 8)\n",
    "\n",
    "\n",
    "for dataPath in ['AHDBase_TrainingSet/', 'AHDBase_TestingSet/']:\n",
    "    labels = []\n",
    "    images = []\n",
    "    for folder in [d for d in listdir(dataPath) if not isfile(join(dataPath, d))]:\n",
    "        print('{}: {}'.format(dataPath, folder))\n",
    "        folderPath = dataPath + folder +\"/\"\n",
    "        for file in [f for f in listdir(folderPath) if isfile(join(folderPath, f))]:\n",
    "            if 'bmp' in file:\n",
    "                image_path = folderPath + file\n",
    "                #print (image_path)\n",
    "\n",
    "                # 1- read the image\n",
    "                image = cv2.imread(image_path)\n",
    "                image_gray = cv2.cvtColor(image, cv2.COLOR_RGB2GRAY)\n",
    "\n",
    "                # 2- preprocess the image. In this case, resize the image\n",
    "                processed_image = processor.preprocess(image_gray)\n",
    "\n",
    "                # 3- normalize the image\n",
    "                normalized_image = (processed_image - processed_image.min()) / (processed_image.max() - processed_image.min())\n",
    "\n",
    "                # 4- flatten the image\n",
    "                flatten_image = normalized_image.reshape(normalized_image.shape[0]*normalized_image.shape[1])\n",
    "\n",
    "                # 5- extract the label\n",
    "                label = int(image_path.split('.')[0][-1])\n",
    "\n",
    "                # 6- append images and labels\n",
    "                labels.append(label)\n",
    "                images.append(flatten_image)\n",
    "    \n",
    "    images = np.array(images)\n",
    "    labels = np.array(labels).reshape(len(labels), 1)\n",
    "    data = pd.DataFrame(images)\n",
    "    data['label'] = labels\n",
    "    data.to_csv('{}.csv'.format(dataPath.strip('/')))\n",
    "    print('Images in folder {} have been successfully saved in {}.csv file'.format(dataPath, dataPath.strip('/')))"
   ]
  }
 ],
 "metadata": {
  "colab": {
   "collapsed_sections": [],
   "name": "Code.ipynb",
   "provenance": [],
   "version": "0.3.2"
  },
  "kernelspec": {
   "display_name": "Python 3",
   "language": "python",
   "name": "python3"
  },
  "language_info": {
   "codemirror_mode": {
    "name": "ipython",
    "version": 3
   },
   "file_extension": ".py",
   "mimetype": "text/x-python",
   "name": "python",
   "nbconvert_exporter": "python",
   "pygments_lexer": "ipython3",
   "version": "3.6.5"
  }
 },
 "nbformat": 4,
 "nbformat_minor": 1
}
